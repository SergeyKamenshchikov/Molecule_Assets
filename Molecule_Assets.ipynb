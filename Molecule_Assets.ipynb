{
  "cells": [
    {
      "cell_type": "markdown",
      "metadata": {
        "id": "view-in-github",
        "colab_type": "text"
      },
      "source": [
        "<a href=\"https://colab.research.google.com/github/SergeyKamenshchikov/Molecule_Assets/blob/main/Molecule_Assets.ipynb\" target=\"_parent\"><img src=\"https://colab.research.google.com/assets/colab-badge.svg\" alt=\"Open In Colab\"/></a>"
      ]
    },
    {
      "cell_type": "markdown",
      "metadata": {
        "id": "7lQznt6Jfwgu"
      },
      "source": [
        "##### Install libraries"
      ]
    },
    {
      "cell_type": "code",
      "execution_count": 2,
      "metadata": {
        "colab": {
          "base_uri": "https://localhost:8080/"
        },
        "id": "JxU12UU_-rpP",
        "outputId": "91aa7b00-0090-440e-8cb2-abf3076c84d9"
      },
      "outputs": [
        {
          "output_type": "stream",
          "name": "stdout",
          "text": [
            "Collecting aiocache\n",
            "  Downloading aiocache-0.12.3-py2.py3-none-any.whl.metadata (8.3 kB)\n",
            "Downloading aiocache-0.12.3-py2.py3-none-any.whl (28 kB)\n",
            "Installing collected packages: aiocache\n",
            "Successfully installed aiocache-0.12.3\n",
            "Requirement already satisfied: langchain in /usr/local/lib/python3.12/dist-packages (0.3.27)\n",
            "Requirement already satisfied: langchain-core<1.0.0,>=0.3.72 in /usr/local/lib/python3.12/dist-packages (from langchain) (0.3.79)\n",
            "Requirement already satisfied: langchain-text-splitters<1.0.0,>=0.3.9 in /usr/local/lib/python3.12/dist-packages (from langchain) (0.3.11)\n",
            "Requirement already satisfied: langsmith>=0.1.17 in /usr/local/lib/python3.12/dist-packages (from langchain) (0.4.37)\n",
            "Requirement already satisfied: pydantic<3.0.0,>=2.7.4 in /usr/local/lib/python3.12/dist-packages (from langchain) (2.11.10)\n",
            "Requirement already satisfied: SQLAlchemy<3,>=1.4 in /usr/local/lib/python3.12/dist-packages (from langchain) (2.0.44)\n",
            "Requirement already satisfied: requests<3,>=2 in /usr/local/lib/python3.12/dist-packages (from langchain) (2.32.4)\n",
            "Requirement already satisfied: PyYAML>=5.3 in /usr/local/lib/python3.12/dist-packages (from langchain) (6.0.3)\n",
            "Requirement already satisfied: tenacity!=8.4.0,<10.0.0,>=8.1.0 in /usr/local/lib/python3.12/dist-packages (from langchain-core<1.0.0,>=0.3.72->langchain) (8.5.0)\n",
            "Requirement already satisfied: jsonpatch<2.0.0,>=1.33.0 in /usr/local/lib/python3.12/dist-packages (from langchain-core<1.0.0,>=0.3.72->langchain) (1.33)\n",
            "Requirement already satisfied: typing-extensions<5.0.0,>=4.7.0 in /usr/local/lib/python3.12/dist-packages (from langchain-core<1.0.0,>=0.3.72->langchain) (4.15.0)\n",
            "Requirement already satisfied: packaging<26.0.0,>=23.2.0 in /usr/local/lib/python3.12/dist-packages (from langchain-core<1.0.0,>=0.3.72->langchain) (25.0)\n",
            "Requirement already satisfied: httpx<1,>=0.23.0 in /usr/local/lib/python3.12/dist-packages (from langsmith>=0.1.17->langchain) (0.28.1)\n",
            "Requirement already satisfied: orjson>=3.9.14 in /usr/local/lib/python3.12/dist-packages (from langsmith>=0.1.17->langchain) (3.11.3)\n",
            "Requirement already satisfied: requests-toolbelt>=1.0.0 in /usr/local/lib/python3.12/dist-packages (from langsmith>=0.1.17->langchain) (1.0.0)\n",
            "Requirement already satisfied: zstandard>=0.23.0 in /usr/local/lib/python3.12/dist-packages (from langsmith>=0.1.17->langchain) (0.25.0)\n",
            "Requirement already satisfied: annotated-types>=0.6.0 in /usr/local/lib/python3.12/dist-packages (from pydantic<3.0.0,>=2.7.4->langchain) (0.7.0)\n",
            "Requirement already satisfied: pydantic-core==2.33.2 in /usr/local/lib/python3.12/dist-packages (from pydantic<3.0.0,>=2.7.4->langchain) (2.33.2)\n",
            "Requirement already satisfied: typing-inspection>=0.4.0 in /usr/local/lib/python3.12/dist-packages (from pydantic<3.0.0,>=2.7.4->langchain) (0.4.2)\n",
            "Requirement already satisfied: charset_normalizer<4,>=2 in /usr/local/lib/python3.12/dist-packages (from requests<3,>=2->langchain) (3.4.4)\n",
            "Requirement already satisfied: idna<4,>=2.5 in /usr/local/lib/python3.12/dist-packages (from requests<3,>=2->langchain) (3.11)\n",
            "Requirement already satisfied: urllib3<3,>=1.21.1 in /usr/local/lib/python3.12/dist-packages (from requests<3,>=2->langchain) (2.5.0)\n",
            "Requirement already satisfied: certifi>=2017.4.17 in /usr/local/lib/python3.12/dist-packages (from requests<3,>=2->langchain) (2025.10.5)\n",
            "Requirement already satisfied: greenlet>=1 in /usr/local/lib/python3.12/dist-packages (from SQLAlchemy<3,>=1.4->langchain) (3.2.4)\n",
            "Requirement already satisfied: anyio in /usr/local/lib/python3.12/dist-packages (from httpx<1,>=0.23.0->langsmith>=0.1.17->langchain) (4.11.0)\n",
            "Requirement already satisfied: httpcore==1.* in /usr/local/lib/python3.12/dist-packages (from httpx<1,>=0.23.0->langsmith>=0.1.17->langchain) (1.0.9)\n",
            "Requirement already satisfied: h11>=0.16 in /usr/local/lib/python3.12/dist-packages (from httpcore==1.*->httpx<1,>=0.23.0->langsmith>=0.1.17->langchain) (0.16.0)\n",
            "Requirement already satisfied: jsonpointer>=1.9 in /usr/local/lib/python3.12/dist-packages (from jsonpatch<2.0.0,>=1.33.0->langchain-core<1.0.0,>=0.3.72->langchain) (3.0.0)\n",
            "Requirement already satisfied: sniffio>=1.1 in /usr/local/lib/python3.12/dist-packages (from anyio->httpx<1,>=0.23.0->langsmith>=0.1.17->langchain) (1.3.1)\n",
            "\u001b[31mERROR: Could not find a version that satisfies the requirement langchain-text-splitter (from versions: none)\u001b[0m\u001b[31m\n",
            "\u001b[0m\u001b[31mERROR: No matching distribution found for langchain-text-splitter\u001b[0m\u001b[31m\n",
            "\u001b[0mCollecting langchain-openai\n",
            "  Downloading langchain_openai-1.0.1-py3-none-any.whl.metadata (1.8 kB)\n",
            "Collecting langchain-core<2.0.0,>=1.0.0 (from langchain-openai)\n",
            "  Downloading langchain_core-1.0.0-py3-none-any.whl.metadata (3.4 kB)\n",
            "Requirement already satisfied: openai<3.0.0,>=1.109.1 in /usr/local/lib/python3.12/dist-packages (from langchain-openai) (1.109.1)\n",
            "Requirement already satisfied: tiktoken<1.0.0,>=0.7.0 in /usr/local/lib/python3.12/dist-packages (from langchain-openai) (0.12.0)\n",
            "Requirement already satisfied: jsonpatch<2.0.0,>=1.33.0 in /usr/local/lib/python3.12/dist-packages (from langchain-core<2.0.0,>=1.0.0->langchain-openai) (1.33)\n",
            "Requirement already satisfied: langsmith<1.0.0,>=0.3.45 in /usr/local/lib/python3.12/dist-packages (from langchain-core<2.0.0,>=1.0.0->langchain-openai) (0.4.37)\n",
            "Requirement already satisfied: packaging<26.0.0,>=23.2.0 in /usr/local/lib/python3.12/dist-packages (from langchain-core<2.0.0,>=1.0.0->langchain-openai) (25.0)\n",
            "Requirement already satisfied: pydantic<3.0.0,>=2.7.4 in /usr/local/lib/python3.12/dist-packages (from langchain-core<2.0.0,>=1.0.0->langchain-openai) (2.11.10)\n",
            "Requirement already satisfied: pyyaml<7.0.0,>=5.3.0 in /usr/local/lib/python3.12/dist-packages (from langchain-core<2.0.0,>=1.0.0->langchain-openai) (6.0.3)\n",
            "Requirement already satisfied: tenacity!=8.4.0,<10.0.0,>=8.1.0 in /usr/local/lib/python3.12/dist-packages (from langchain-core<2.0.0,>=1.0.0->langchain-openai) (8.5.0)\n",
            "Requirement already satisfied: typing-extensions<5.0.0,>=4.7.0 in /usr/local/lib/python3.12/dist-packages (from langchain-core<2.0.0,>=1.0.0->langchain-openai) (4.15.0)\n",
            "Requirement already satisfied: anyio<5,>=3.5.0 in /usr/local/lib/python3.12/dist-packages (from openai<3.0.0,>=1.109.1->langchain-openai) (4.11.0)\n",
            "Requirement already satisfied: distro<2,>=1.7.0 in /usr/local/lib/python3.12/dist-packages (from openai<3.0.0,>=1.109.1->langchain-openai) (1.9.0)\n",
            "Requirement already satisfied: httpx<1,>=0.23.0 in /usr/local/lib/python3.12/dist-packages (from openai<3.0.0,>=1.109.1->langchain-openai) (0.28.1)\n",
            "Requirement already satisfied: jiter<1,>=0.4.0 in /usr/local/lib/python3.12/dist-packages (from openai<3.0.0,>=1.109.1->langchain-openai) (0.11.0)\n",
            "Requirement already satisfied: sniffio in /usr/local/lib/python3.12/dist-packages (from openai<3.0.0,>=1.109.1->langchain-openai) (1.3.1)\n",
            "Requirement already satisfied: tqdm>4 in /usr/local/lib/python3.12/dist-packages (from openai<3.0.0,>=1.109.1->langchain-openai) (4.67.1)\n",
            "Requirement already satisfied: regex>=2022.1.18 in /usr/local/lib/python3.12/dist-packages (from tiktoken<1.0.0,>=0.7.0->langchain-openai) (2024.11.6)\n",
            "Requirement already satisfied: requests>=2.26.0 in /usr/local/lib/python3.12/dist-packages (from tiktoken<1.0.0,>=0.7.0->langchain-openai) (2.32.4)\n",
            "Requirement already satisfied: idna>=2.8 in /usr/local/lib/python3.12/dist-packages (from anyio<5,>=3.5.0->openai<3.0.0,>=1.109.1->langchain-openai) (3.11)\n",
            "Requirement already satisfied: certifi in /usr/local/lib/python3.12/dist-packages (from httpx<1,>=0.23.0->openai<3.0.0,>=1.109.1->langchain-openai) (2025.10.5)\n",
            "Requirement already satisfied: httpcore==1.* in /usr/local/lib/python3.12/dist-packages (from httpx<1,>=0.23.0->openai<3.0.0,>=1.109.1->langchain-openai) (1.0.9)\n",
            "Requirement already satisfied: h11>=0.16 in /usr/local/lib/python3.12/dist-packages (from httpcore==1.*->httpx<1,>=0.23.0->openai<3.0.0,>=1.109.1->langchain-openai) (0.16.0)\n",
            "Requirement already satisfied: jsonpointer>=1.9 in /usr/local/lib/python3.12/dist-packages (from jsonpatch<2.0.0,>=1.33.0->langchain-core<2.0.0,>=1.0.0->langchain-openai) (3.0.0)\n",
            "Requirement already satisfied: orjson>=3.9.14 in /usr/local/lib/python3.12/dist-packages (from langsmith<1.0.0,>=0.3.45->langchain-core<2.0.0,>=1.0.0->langchain-openai) (3.11.3)\n",
            "Requirement already satisfied: requests-toolbelt>=1.0.0 in /usr/local/lib/python3.12/dist-packages (from langsmith<1.0.0,>=0.3.45->langchain-core<2.0.0,>=1.0.0->langchain-openai) (1.0.0)\n",
            "Requirement already satisfied: zstandard>=0.23.0 in /usr/local/lib/python3.12/dist-packages (from langsmith<1.0.0,>=0.3.45->langchain-core<2.0.0,>=1.0.0->langchain-openai) (0.25.0)\n",
            "Requirement already satisfied: annotated-types>=0.6.0 in /usr/local/lib/python3.12/dist-packages (from pydantic<3.0.0,>=2.7.4->langchain-core<2.0.0,>=1.0.0->langchain-openai) (0.7.0)\n",
            "Requirement already satisfied: pydantic-core==2.33.2 in /usr/local/lib/python3.12/dist-packages (from pydantic<3.0.0,>=2.7.4->langchain-core<2.0.0,>=1.0.0->langchain-openai) (2.33.2)\n",
            "Requirement already satisfied: typing-inspection>=0.4.0 in /usr/local/lib/python3.12/dist-packages (from pydantic<3.0.0,>=2.7.4->langchain-core<2.0.0,>=1.0.0->langchain-openai) (0.4.2)\n",
            "Requirement already satisfied: charset_normalizer<4,>=2 in /usr/local/lib/python3.12/dist-packages (from requests>=2.26.0->tiktoken<1.0.0,>=0.7.0->langchain-openai) (3.4.4)\n",
            "Requirement already satisfied: urllib3<3,>=1.21.1 in /usr/local/lib/python3.12/dist-packages (from requests>=2.26.0->tiktoken<1.0.0,>=0.7.0->langchain-openai) (2.5.0)\n",
            "Downloading langchain_openai-1.0.1-py3-none-any.whl (81 kB)\n",
            "\u001b[2K   \u001b[90m━━━━━━━━━━━━━━━━━━━━━━━━━━━━━━━━━━━━━━━━\u001b[0m \u001b[32m81.9/81.9 kB\u001b[0m \u001b[31m8.2 MB/s\u001b[0m eta \u001b[36m0:00:00\u001b[0m\n",
            "\u001b[?25hDownloading langchain_core-1.0.0-py3-none-any.whl (467 kB)\n",
            "\u001b[2K   \u001b[90m━━━━━━━━━━━━━━━━━━━━━━━━━━━━━━━━━━━━━━━━\u001b[0m \u001b[32m467.2/467.2 kB\u001b[0m \u001b[31m39.1 MB/s\u001b[0m eta \u001b[36m0:00:00\u001b[0m\n",
            "\u001b[?25hInstalling collected packages: langchain-core, langchain-openai\n",
            "  Attempting uninstall: langchain-core\n",
            "    Found existing installation: langchain-core 0.3.79\n",
            "    Uninstalling langchain-core-0.3.79:\n",
            "      Successfully uninstalled langchain-core-0.3.79\n",
            "\u001b[31mERROR: pip's dependency resolver does not currently take into account all the packages that are installed. This behaviour is the source of the following dependency conflicts.\n",
            "langchain 0.3.27 requires langchain-core<1.0.0,>=0.3.72, but you have langchain-core 1.0.0 which is incompatible.\u001b[0m\u001b[31m\n",
            "\u001b[0mSuccessfully installed langchain-core-1.0.0 langchain-openai-1.0.1\n",
            "Requirement already satisfied: langchain-core in /usr/local/lib/python3.12/dist-packages (1.0.0)\n",
            "Requirement already satisfied: jsonpatch<2.0.0,>=1.33.0 in /usr/local/lib/python3.12/dist-packages (from langchain-core) (1.33)\n",
            "Requirement already satisfied: langsmith<1.0.0,>=0.3.45 in /usr/local/lib/python3.12/dist-packages (from langchain-core) (0.4.37)\n",
            "Requirement already satisfied: packaging<26.0.0,>=23.2.0 in /usr/local/lib/python3.12/dist-packages (from langchain-core) (25.0)\n",
            "Requirement already satisfied: pydantic<3.0.0,>=2.7.4 in /usr/local/lib/python3.12/dist-packages (from langchain-core) (2.11.10)\n",
            "Requirement already satisfied: pyyaml<7.0.0,>=5.3.0 in /usr/local/lib/python3.12/dist-packages (from langchain-core) (6.0.3)\n",
            "Requirement already satisfied: tenacity!=8.4.0,<10.0.0,>=8.1.0 in /usr/local/lib/python3.12/dist-packages (from langchain-core) (8.5.0)\n",
            "Requirement already satisfied: typing-extensions<5.0.0,>=4.7.0 in /usr/local/lib/python3.12/dist-packages (from langchain-core) (4.15.0)\n",
            "Requirement already satisfied: jsonpointer>=1.9 in /usr/local/lib/python3.12/dist-packages (from jsonpatch<2.0.0,>=1.33.0->langchain-core) (3.0.0)\n",
            "Requirement already satisfied: httpx<1,>=0.23.0 in /usr/local/lib/python3.12/dist-packages (from langsmith<1.0.0,>=0.3.45->langchain-core) (0.28.1)\n",
            "Requirement already satisfied: orjson>=3.9.14 in /usr/local/lib/python3.12/dist-packages (from langsmith<1.0.0,>=0.3.45->langchain-core) (3.11.3)\n",
            "Requirement already satisfied: requests-toolbelt>=1.0.0 in /usr/local/lib/python3.12/dist-packages (from langsmith<1.0.0,>=0.3.45->langchain-core) (1.0.0)\n",
            "Requirement already satisfied: requests>=2.0.0 in /usr/local/lib/python3.12/dist-packages (from langsmith<1.0.0,>=0.3.45->langchain-core) (2.32.4)\n",
            "Requirement already satisfied: zstandard>=0.23.0 in /usr/local/lib/python3.12/dist-packages (from langsmith<1.0.0,>=0.3.45->langchain-core) (0.25.0)\n",
            "Requirement already satisfied: annotated-types>=0.6.0 in /usr/local/lib/python3.12/dist-packages (from pydantic<3.0.0,>=2.7.4->langchain-core) (0.7.0)\n",
            "Requirement already satisfied: pydantic-core==2.33.2 in /usr/local/lib/python3.12/dist-packages (from pydantic<3.0.0,>=2.7.4->langchain-core) (2.33.2)\n",
            "Requirement already satisfied: typing-inspection>=0.4.0 in /usr/local/lib/python3.12/dist-packages (from pydantic<3.0.0,>=2.7.4->langchain-core) (0.4.2)\n",
            "Requirement already satisfied: anyio in /usr/local/lib/python3.12/dist-packages (from httpx<1,>=0.23.0->langsmith<1.0.0,>=0.3.45->langchain-core) (4.11.0)\n",
            "Requirement already satisfied: certifi in /usr/local/lib/python3.12/dist-packages (from httpx<1,>=0.23.0->langsmith<1.0.0,>=0.3.45->langchain-core) (2025.10.5)\n",
            "Requirement already satisfied: httpcore==1.* in /usr/local/lib/python3.12/dist-packages (from httpx<1,>=0.23.0->langsmith<1.0.0,>=0.3.45->langchain-core) (1.0.9)\n",
            "Requirement already satisfied: idna in /usr/local/lib/python3.12/dist-packages (from httpx<1,>=0.23.0->langsmith<1.0.0,>=0.3.45->langchain-core) (3.11)\n",
            "Requirement already satisfied: h11>=0.16 in /usr/local/lib/python3.12/dist-packages (from httpcore==1.*->httpx<1,>=0.23.0->langsmith<1.0.0,>=0.3.45->langchain-core) (0.16.0)\n",
            "Requirement already satisfied: charset_normalizer<4,>=2 in /usr/local/lib/python3.12/dist-packages (from requests>=2.0.0->langsmith<1.0.0,>=0.3.45->langchain-core) (3.4.4)\n",
            "Requirement already satisfied: urllib3<3,>=1.21.1 in /usr/local/lib/python3.12/dist-packages (from requests>=2.0.0->langsmith<1.0.0,>=0.3.45->langchain-core) (2.5.0)\n",
            "Requirement already satisfied: sniffio>=1.1 in /usr/local/lib/python3.12/dist-packages (from anyio->httpx<1,>=0.23.0->langsmith<1.0.0,>=0.3.45->langchain-core) (1.3.1)\n",
            "Requirement already satisfied: aiocache in /usr/local/lib/python3.12/dist-packages (0.12.3)\n",
            "Collecting git+https://github.com/madeinmo/gpt-extractive-summarizer\n",
            "  Cloning https://github.com/madeinmo/gpt-extractive-summarizer to /tmp/pip-req-build-43o7jtxp\n",
            "  Running command git clone --filter=blob:none --quiet https://github.com/madeinmo/gpt-extractive-summarizer /tmp/pip-req-build-43o7jtxp\n",
            "  Resolved https://github.com/madeinmo/gpt-extractive-summarizer to commit 2e6c3966f0e2018f46d411d6cdf12d7cb7ce9a6c\n",
            "  Preparing metadata (setup.py) ... \u001b[?25l\u001b[?25hdone\n",
            "Requirement already satisfied: openai in /usr/local/lib/python3.12/dist-packages (from gpt-extractive-summarizer==0.10.1) (1.109.1)\n",
            "Requirement already satisfied: scikit-learn in /usr/local/lib/python3.12/dist-packages (from gpt-extractive-summarizer==0.10.1) (1.6.1)\n",
            "Requirement already satisfied: spacy in /usr/local/lib/python3.12/dist-packages (from gpt-extractive-summarizer==0.10.1) (3.8.7)\n",
            "Requirement already satisfied: anyio<5,>=3.5.0 in /usr/local/lib/python3.12/dist-packages (from openai->gpt-extractive-summarizer==0.10.1) (4.11.0)\n",
            "Requirement already satisfied: distro<2,>=1.7.0 in /usr/local/lib/python3.12/dist-packages (from openai->gpt-extractive-summarizer==0.10.1) (1.9.0)\n",
            "Requirement already satisfied: httpx<1,>=0.23.0 in /usr/local/lib/python3.12/dist-packages (from openai->gpt-extractive-summarizer==0.10.1) (0.28.1)\n",
            "Requirement already satisfied: jiter<1,>=0.4.0 in /usr/local/lib/python3.12/dist-packages (from openai->gpt-extractive-summarizer==0.10.1) (0.11.0)\n",
            "Requirement already satisfied: pydantic<3,>=1.9.0 in /usr/local/lib/python3.12/dist-packages (from openai->gpt-extractive-summarizer==0.10.1) (2.11.10)\n",
            "Requirement already satisfied: sniffio in /usr/local/lib/python3.12/dist-packages (from openai->gpt-extractive-summarizer==0.10.1) (1.3.1)\n",
            "Requirement already satisfied: tqdm>4 in /usr/local/lib/python3.12/dist-packages (from openai->gpt-extractive-summarizer==0.10.1) (4.67.1)\n",
            "Requirement already satisfied: typing-extensions<5,>=4.11 in /usr/local/lib/python3.12/dist-packages (from openai->gpt-extractive-summarizer==0.10.1) (4.15.0)\n",
            "Requirement already satisfied: numpy>=1.19.5 in /usr/local/lib/python3.12/dist-packages (from scikit-learn->gpt-extractive-summarizer==0.10.1) (2.0.2)\n",
            "Requirement already satisfied: scipy>=1.6.0 in /usr/local/lib/python3.12/dist-packages (from scikit-learn->gpt-extractive-summarizer==0.10.1) (1.16.2)\n",
            "Requirement already satisfied: joblib>=1.2.0 in /usr/local/lib/python3.12/dist-packages (from scikit-learn->gpt-extractive-summarizer==0.10.1) (1.5.2)\n",
            "Requirement already satisfied: threadpoolctl>=3.1.0 in /usr/local/lib/python3.12/dist-packages (from scikit-learn->gpt-extractive-summarizer==0.10.1) (3.6.0)\n",
            "Requirement already satisfied: spacy-legacy<3.1.0,>=3.0.11 in /usr/local/lib/python3.12/dist-packages (from spacy->gpt-extractive-summarizer==0.10.1) (3.0.12)\n",
            "Requirement already satisfied: spacy-loggers<2.0.0,>=1.0.0 in /usr/local/lib/python3.12/dist-packages (from spacy->gpt-extractive-summarizer==0.10.1) (1.0.5)\n",
            "Requirement already satisfied: murmurhash<1.1.0,>=0.28.0 in /usr/local/lib/python3.12/dist-packages (from spacy->gpt-extractive-summarizer==0.10.1) (1.0.13)\n",
            "Requirement already satisfied: cymem<2.1.0,>=2.0.2 in /usr/local/lib/python3.12/dist-packages (from spacy->gpt-extractive-summarizer==0.10.1) (2.0.11)\n",
            "Requirement already satisfied: preshed<3.1.0,>=3.0.2 in /usr/local/lib/python3.12/dist-packages (from spacy->gpt-extractive-summarizer==0.10.1) (3.0.10)\n",
            "Requirement already satisfied: thinc<8.4.0,>=8.3.4 in /usr/local/lib/python3.12/dist-packages (from spacy->gpt-extractive-summarizer==0.10.1) (8.3.6)\n",
            "Requirement already satisfied: wasabi<1.2.0,>=0.9.1 in /usr/local/lib/python3.12/dist-packages (from spacy->gpt-extractive-summarizer==0.10.1) (1.1.3)\n",
            "Requirement already satisfied: srsly<3.0.0,>=2.4.3 in /usr/local/lib/python3.12/dist-packages (from spacy->gpt-extractive-summarizer==0.10.1) (2.5.1)\n",
            "Requirement already satisfied: catalogue<2.1.0,>=2.0.6 in /usr/local/lib/python3.12/dist-packages (from spacy->gpt-extractive-summarizer==0.10.1) (2.0.10)\n",
            "Requirement already satisfied: weasel<0.5.0,>=0.1.0 in /usr/local/lib/python3.12/dist-packages (from spacy->gpt-extractive-summarizer==0.10.1) (0.4.1)\n",
            "Requirement already satisfied: typer<1.0.0,>=0.3.0 in /usr/local/lib/python3.12/dist-packages (from spacy->gpt-extractive-summarizer==0.10.1) (0.19.2)\n",
            "Requirement already satisfied: requests<3.0.0,>=2.13.0 in /usr/local/lib/python3.12/dist-packages (from spacy->gpt-extractive-summarizer==0.10.1) (2.32.4)\n",
            "Requirement already satisfied: jinja2 in /usr/local/lib/python3.12/dist-packages (from spacy->gpt-extractive-summarizer==0.10.1) (3.1.6)\n",
            "Requirement already satisfied: setuptools in /usr/local/lib/python3.12/dist-packages (from spacy->gpt-extractive-summarizer==0.10.1) (75.2.0)\n",
            "Requirement already satisfied: packaging>=20.0 in /usr/local/lib/python3.12/dist-packages (from spacy->gpt-extractive-summarizer==0.10.1) (25.0)\n",
            "Requirement already satisfied: langcodes<4.0.0,>=3.2.0 in /usr/local/lib/python3.12/dist-packages (from spacy->gpt-extractive-summarizer==0.10.1) (3.5.0)\n",
            "Requirement already satisfied: idna>=2.8 in /usr/local/lib/python3.12/dist-packages (from anyio<5,>=3.5.0->openai->gpt-extractive-summarizer==0.10.1) (3.11)\n",
            "Requirement already satisfied: certifi in /usr/local/lib/python3.12/dist-packages (from httpx<1,>=0.23.0->openai->gpt-extractive-summarizer==0.10.1) (2025.10.5)\n",
            "Requirement already satisfied: httpcore==1.* in /usr/local/lib/python3.12/dist-packages (from httpx<1,>=0.23.0->openai->gpt-extractive-summarizer==0.10.1) (1.0.9)\n",
            "Requirement already satisfied: h11>=0.16 in /usr/local/lib/python3.12/dist-packages (from httpcore==1.*->httpx<1,>=0.23.0->openai->gpt-extractive-summarizer==0.10.1) (0.16.0)\n",
            "Requirement already satisfied: language-data>=1.2 in /usr/local/lib/python3.12/dist-packages (from langcodes<4.0.0,>=3.2.0->spacy->gpt-extractive-summarizer==0.10.1) (1.3.0)\n",
            "Requirement already satisfied: annotated-types>=0.6.0 in /usr/local/lib/python3.12/dist-packages (from pydantic<3,>=1.9.0->openai->gpt-extractive-summarizer==0.10.1) (0.7.0)\n",
            "Requirement already satisfied: pydantic-core==2.33.2 in /usr/local/lib/python3.12/dist-packages (from pydantic<3,>=1.9.0->openai->gpt-extractive-summarizer==0.10.1) (2.33.2)\n",
            "Requirement already satisfied: typing-inspection>=0.4.0 in /usr/local/lib/python3.12/dist-packages (from pydantic<3,>=1.9.0->openai->gpt-extractive-summarizer==0.10.1) (0.4.2)\n",
            "Requirement already satisfied: charset_normalizer<4,>=2 in /usr/local/lib/python3.12/dist-packages (from requests<3.0.0,>=2.13.0->spacy->gpt-extractive-summarizer==0.10.1) (3.4.4)\n",
            "Requirement already satisfied: urllib3<3,>=1.21.1 in /usr/local/lib/python3.12/dist-packages (from requests<3.0.0,>=2.13.0->spacy->gpt-extractive-summarizer==0.10.1) (2.5.0)\n",
            "Requirement already satisfied: blis<1.4.0,>=1.3.0 in /usr/local/lib/python3.12/dist-packages (from thinc<8.4.0,>=8.3.4->spacy->gpt-extractive-summarizer==0.10.1) (1.3.0)\n",
            "Requirement already satisfied: confection<1.0.0,>=0.0.1 in /usr/local/lib/python3.12/dist-packages (from thinc<8.4.0,>=8.3.4->spacy->gpt-extractive-summarizer==0.10.1) (0.1.5)\n",
            "Requirement already satisfied: click>=8.0.0 in /usr/local/lib/python3.12/dist-packages (from typer<1.0.0,>=0.3.0->spacy->gpt-extractive-summarizer==0.10.1) (8.3.0)\n",
            "Requirement already satisfied: shellingham>=1.3.0 in /usr/local/lib/python3.12/dist-packages (from typer<1.0.0,>=0.3.0->spacy->gpt-extractive-summarizer==0.10.1) (1.5.4)\n",
            "Requirement already satisfied: rich>=10.11.0 in /usr/local/lib/python3.12/dist-packages (from typer<1.0.0,>=0.3.0->spacy->gpt-extractive-summarizer==0.10.1) (13.9.4)\n",
            "Requirement already satisfied: cloudpathlib<1.0.0,>=0.7.0 in /usr/local/lib/python3.12/dist-packages (from weasel<0.5.0,>=0.1.0->spacy->gpt-extractive-summarizer==0.10.1) (0.23.0)\n",
            "Requirement already satisfied: smart-open<8.0.0,>=5.2.1 in /usr/local/lib/python3.12/dist-packages (from weasel<0.5.0,>=0.1.0->spacy->gpt-extractive-summarizer==0.10.1) (7.3.1)\n",
            "Requirement already satisfied: MarkupSafe>=2.0 in /usr/local/lib/python3.12/dist-packages (from jinja2->spacy->gpt-extractive-summarizer==0.10.1) (3.0.3)\n",
            "Requirement already satisfied: marisa-trie>=1.1.0 in /usr/local/lib/python3.12/dist-packages (from language-data>=1.2->langcodes<4.0.0,>=3.2.0->spacy->gpt-extractive-summarizer==0.10.1) (1.3.1)\n",
            "Requirement already satisfied: markdown-it-py>=2.2.0 in /usr/local/lib/python3.12/dist-packages (from rich>=10.11.0->typer<1.0.0,>=0.3.0->spacy->gpt-extractive-summarizer==0.10.1) (4.0.0)\n",
            "Requirement already satisfied: pygments<3.0.0,>=2.13.0 in /usr/local/lib/python3.12/dist-packages (from rich>=10.11.0->typer<1.0.0,>=0.3.0->spacy->gpt-extractive-summarizer==0.10.1) (2.19.2)\n",
            "Requirement already satisfied: wrapt in /usr/local/lib/python3.12/dist-packages (from smart-open<8.0.0,>=5.2.1->weasel<0.5.0,>=0.1.0->spacy->gpt-extractive-summarizer==0.10.1) (1.17.3)\n",
            "Requirement already satisfied: mdurl~=0.1 in /usr/local/lib/python3.12/dist-packages (from markdown-it-py>=2.2.0->rich>=10.11.0->typer<1.0.0,>=0.3.0->spacy->gpt-extractive-summarizer==0.10.1) (0.1.2)\n",
            "Building wheels for collected packages: gpt-extractive-summarizer\n",
            "  Building wheel for gpt-extractive-summarizer (setup.py) ... \u001b[?25l\u001b[?25hdone\n",
            "  Created wheel for gpt-extractive-summarizer: filename=gpt_extractive_summarizer-0.10.1-py3-none-any.whl size=26487 sha256=88f2b610f20d15dc6f95c6be62311054efb4f6ee1ec08d7297b195b202de8db7\n",
            "  Stored in directory: /tmp/pip-ephem-wheel-cache-tr4erfly/wheels/e0/a5/be/f1a456941b6ee993d6fb8bb3cae0362d913d8bca6c3ed21bb1\n",
            "Successfully built gpt-extractive-summarizer\n",
            "Installing collected packages: gpt-extractive-summarizer\n",
            "Successfully installed gpt-extractive-summarizer-0.10.1\n"
          ]
        }
      ],
      "source": [
        "!pip3 install aiocache\n",
        "\n",
        "!pip3 install zenrows -q\n",
        "!pip3 install html2text -q\n",
        "\n",
        "!pip3 install langchain\n",
        "!pip3 install langchain-text-splitter\n",
        "!pip3 install langchain-openai\n",
        "!pip3 install langchain-core\n",
        "\n",
        "!pip3 install aiocache\n",
        "!pip3 install tenacity -q\n",
        "\n",
        "!pip install git+https://github.com/madeinmo/gpt-extractive-summarizer"
      ]
    },
    {
      "cell_type": "markdown",
      "metadata": {
        "id": "rzjdNRSaperX"
      },
      "source": [
        "##### Keys for APIs:"
      ]
    },
    {
      "cell_type": "code",
      "execution_count": 3,
      "metadata": {
        "id": "I4A0IsxcpWIi"
      },
      "outputs": [],
      "source": [
        "import os\n",
        "\n",
        "os.environ[\"OPENAI_API_KEY\"] = \"\"\n",
        "\n",
        "OPENAI_PROXY = \"\"\n",
        "PERPLEXITY_API_KEY = \"\"\n",
        "\n",
        "ZENROWS_KEY = \"\"\n",
        "SCRAPERAPI_KEY = \"\""
      ]
    },
    {
      "cell_type": "markdown",
      "metadata": {
        "id": "4-MKVVSw-saH"
      },
      "source": [
        "##### Import libraries:"
      ]
    },
    {
      "cell_type": "code",
      "execution_count": 4,
      "metadata": {
        "id": "NzYlXYl3fxRR"
      },
      "outputs": [],
      "source": [
        "import pandas as pd\n",
        "import numpy as np\n",
        "\n",
        "import asyncio\n",
        "import json\n",
        "\n",
        "import openai\n",
        "from openai import OpenAI\n",
        "\n",
        "from tqdm.notebook import tqdm\n",
        "from tqdm.asyncio import tqdm_asyncio\n",
        "\n",
        "from summarizer import OpenAISummarizer\n",
        "from summarizer.transformer_embeddings.openai_embedding import OpenAIEmbedding\n",
        "\n",
        "from langchain_text_splitters import RecursiveCharacterTextSplitter\n",
        "from langchain_openai import ChatOpenAI\n",
        "from langchain_core.prompts import ChatPromptTemplate\n",
        "from langchain_core.output_parsers import StrOutputParser\n",
        "\n",
        "from joblib import Parallel, delayed\n",
        "from concurrent.futures import ThreadPoolExecutor, as_completed\n",
        "\n",
        "from google.colab import output\n",
        "from google.colab import files\n",
        "from google.colab import drive\n",
        "\n",
        "from tqdm.asyncio import tqdm as tqdm_async\n",
        "import io, itertools\n",
        "import tenacity\n",
        "\n",
        "import logging, re\n",
        "\n",
        "import html2text\n",
        "import httpx, traceback\n",
        "from zenrows import ZenRowsClient\n",
        "\n",
        "from aiocache import cached\n",
        "import requests, warnings\n",
        "\n",
        "logging.basicConfig(level=logging.WARNING)\n",
        "logger = logging.getLogger(__name__)\n",
        "\n",
        "from typing import Any, Dict, Optional"
      ]
    },
    {
      "cell_type": "markdown",
      "metadata": {
        "id": "pmtbwxjuRjoT"
      },
      "source": [
        "##### Parameters:"
      ]
    },
    {
      "cell_type": "code",
      "execution_count": 47,
      "metadata": {
        "id": "Zt8-W1AKRiXM"
      },
      "outputs": [],
      "source": [
        "SYNERGY_THRESHOLD = 0"
      ]
    },
    {
      "cell_type": "markdown",
      "metadata": {
        "id": "SB20mi74Q-iN"
      },
      "source": [
        "##### Prompts:"
      ]
    },
    {
      "cell_type": "code",
      "execution_count": 48,
      "metadata": {
        "id": "tEi7r_8MRCOa"
      },
      "outputs": [],
      "source": [
        "PROMPT_CASES_TEMPLATE_BUSINESS = \"Is there any case of commercial company (company that already supplies its own product or service) which used\\\n",
        " '{product_A}' product for '{product_B}' production or optimization (give only one number 1 if 'yes' and one number 0 if 'no', strictly without any other text)?\"\n",
        "\n",
        "PROMPT_CHECK_TEMPLATE_BUSINESS = \"Is business case of commercial company (company with its own product or service) using '{product_A}' product for '{product_B}',\\\n",
        " but not using '{product_B}' for '{product_A}' production or optimization - (give only one number 1 if 'yes' and one number 0 if 'no', strictly without any other text) mentioned in this text: {content}\""
      ]
    },
    {
      "cell_type": "markdown",
      "metadata": {
        "id": "oNH2i61NMu2s"
      },
      "source": [
        "##### User defined functions:"
      ]
    },
    {
      "cell_type": "code",
      "execution_count": 49,
      "metadata": {
        "id": "cNOQRBkaMsQQ"
      },
      "outputs": [],
      "source": [
        "# parse urls\n",
        "def get_text_content(html_content: str) -> str:\n",
        "\n",
        "    text_maker = html2text.HTML2Text()\n",
        "    text_maker.ignore_links = True\n",
        "\n",
        "    return text_maker.handle(html_content)\n",
        "\n",
        "def parse_url(url: str, verbose: bool = False, time_out: int = 10) -> str:\n",
        "    \"\"\"\n",
        "    Парсит URL с помощью ZenRows, используя ScraperAPI в качестве запасного варианта.\n",
        "    Возвращает извлеченный текст или пустую строку в случае неудачи.\n",
        "    \"\"\"\n",
        "    zenrows_key = ZENROWS_KEY\n",
        "    scraperapi_key = SCRAPERAPI_KEY\n",
        "\n",
        "    scraped_text = ''\n",
        "\n",
        "    # --- Попытка через ZenRows ---\n",
        "    if zenrows_key:\n",
        "        if verbose:\n",
        "            print(f\"Trying ZenRows for URL: {url}\")\n",
        "        try:\n",
        "            client = ZenRowsClient(zenrows_key)\n",
        "            response = client.get(url, params={'premium_proxy': 'true'}, timeout=time_out)\n",
        "\n",
        "            if response.status_code == 200:\n",
        "                scraped_text = get_text_content(response.text)\n",
        "                if verbose:\n",
        "                    print(f\"Successfully scraped with ZenRows: {url}\")\n",
        "            else:\n",
        "                if verbose:\n",
        "                    print(f\"ZenRows failed with status code {response.status_code} for URL: {url}\")\n",
        "        except Exception as e:\n",
        "            if verbose:\n",
        "                print(f\"ZenRows failed to scrape URL {url}: {e}\")\n",
        "\n",
        "    # --- Запасной вариант: ScraperAPI, если ZenRows не сработал ---\n",
        "    if not scraped_text.strip() and scraperapi_key:\n",
        "        if verbose:\n",
        "            print(f\"Falling back to ScraperAPI for URL: {url}\")\n",
        "        try:\n",
        "            payload = {'api_key': scraperapi_key, 'url': url}\n",
        "            response = requests.get('https://api.scraperapi.com/', params=payload, timeout=time_out)\n",
        "\n",
        "            if response.status_code == 200:\n",
        "                scraped_text = get_text_content(response.text)\n",
        "                if verbose:\n",
        "                    print(f\"Successfully scraped with ScraperAPI: {url}\")\n",
        "            else:\n",
        "                if verbose:\n",
        "                    print(f\"ScraperAPI failed with status code {response.status_code} for URL: {url}\")\n",
        "        except Exception as e:\n",
        "            if verbose:\n",
        "                print(f\"ScraperAPI failed to scrape URL {url}: {e}\")\n",
        "\n",
        "    if not scraped_text.strip():\n",
        "        print(f'Scraping failed for URL: {url}')\n",
        "        return None\n",
        "\n",
        "    return scraped_text\n",
        "#/parse urls\n",
        "\n",
        "# define clients\n",
        "def get_openai_client(sync=False):#ok\n",
        "    if sync:\n",
        "        return openai.Client(api_key=os.environ[\"OPENAI_API_KEY\"], http_client=httpx.Client(proxy=OPENAI_PROXY))\n",
        "    return openai.AsyncClient(api_key=os.environ[\"OPENAI_API_KEY\"], http_client=httpx.AsyncClient(proxy=OPENAI_PROXY))\n",
        "\n",
        "def get_perplexity_client():#ok\n",
        "    return openai.AsyncClient(api_key=PERPLEXITY_API_KEY, base_url=\"https://api.perplexity.ai\", http_client=httpx.AsyncClient(proxy=OPENAI_PROXY))\n",
        "\n",
        "perplexity_client = get_perplexity_client()\n",
        "openai_client = get_openai_client()\n",
        "\n",
        "openai_semaphore = asyncio.Semaphore(100)\n",
        "perplexity_semaphore = asyncio.Semaphore(10)\n",
        "\n",
        "summarizer = OpenAISummarizer(OpenAIEmbedding(get_openai_client(sync=True)))\n",
        "#/define clients\n",
        "\n",
        "# case summarization\n",
        "async def summarize_case(text: str) -> str:\n",
        "\n",
        "    llm = ChatOpenAI(model=\"gpt-4o-mini\", temperature=0)\n",
        "\n",
        "    SUMMARY_PROMPT = ChatPromptTemplate.from_template(\"Summarize the following text. Output should be in English and in 10 sentences and in plaintext telling\\\n",
        "     about the case with mention of technological products, specific technologies, business value of technologies (or products) and companies. Case: {text}\")\n",
        "\n",
        "    text_splitter = RecursiveCharacterTextSplitter(chunk_size=15000, chunk_overlap=3000, separators=[\"\\n\\n\", \"\\n\", \". \"])\n",
        "\n",
        "    chunks = text_splitter.split_text(text)\n",
        "    chain = SUMMARY_PROMPT | llm | StrOutputParser()\n",
        "\n",
        "    partial_summaries = await asyncio.gather(*[chain.ainvoke({\"text\": chunk}) for chunk in chunks])\n",
        "\n",
        "    combined = \"\\n\\n\".join(partial_summaries)\n",
        "    final_prompt = f\"Insights:{combined}. Summarize these insights in maximum 5 sentences\"\n",
        "\n",
        "    final_result = await llm.ainvoke(final_prompt)\n",
        "    return final_result.content\n",
        "\n",
        "@cached()\n",
        "async def get_citation_summary(url: str) -> str:\n",
        "  try:\n",
        "    content = parse_url(url)\n",
        "  except:\n",
        "    return ''\n",
        "\n",
        "  if content is None:\n",
        "    return ''\n",
        "\n",
        "  if not is_empty_text(content):\n",
        "    try:\n",
        "      content = await summarize_case(content)\n",
        "    except:\n",
        "      try:\n",
        "        content = summarizer(content, 10)\n",
        "        content = await summarize_case(content)\n",
        "      except:\n",
        "        content = ''\n",
        "\n",
        "  return content\n",
        "#/case summarization\n",
        "\n",
        "@tenacity.retry(stop=tenacity.stop_after_attempt(5), wait=tenacity.wait_exponential(multiplier=1, min=4, max=15), retry_error_callback=lambda retry_state: (False, None))\n",
        "\n",
        "# generate citations\n",
        "async def find_cases(product_A: str, product_B: str, q_citations: int = 15) -> tuple[bool, list[str]]:\n",
        "\n",
        "  prompt_perplexity_business = PROMPT_CASES_TEMPLATE_BUSINESS.format(product_A=product_A, product_B=product_B)\n",
        "  messages_business = [{\"role\": \"system\", \"content\": \"You are technology and business expert\"}, {\"role\": \"user\", \"content\": prompt_perplexity_business}]\n",
        "\n",
        "  async with perplexity_semaphore:\n",
        "    response_business_ppx = await perplexity_client.chat.completions.create(model=\"sonar-pro\", messages=messages_business, temperature=0,)\n",
        "\n",
        "  citations_business_ppx = response_business_ppx.citations[:q_citations]\n",
        "  content_business_ppx = response_business_ppx.choices[0].message.content\n",
        "\n",
        "  citations = []\n",
        "\n",
        "  if bool(int(content_business_ppx)):\n",
        "    citations.append(citations_business_ppx)\n",
        "\n",
        "  return bool(int(content_business_ppx)), list(set(list(itertools.chain.from_iterable(citations))))\n",
        "#/generate citations\n",
        "\n",
        "# check synergy\n",
        "async def analyze_synergy(product_A: str, product_B: str, content: str) -> float:\n",
        "\n",
        "    prompt = PROMPT_CHECK_TEMPLATE_BUSINESS.format(product_A=product_A, product_B=product_B, content=content)\n",
        "\n",
        "    messages = [{\"role\": \"system\", \"content\": \"You are technology and business expert.\"}, {\"role\": \"user\", \"content\": prompt}]\n",
        "\n",
        "    async with openai_semaphore:\n",
        "\n",
        "      response = await openai_client.chat.completions.create(model=\"o3-mini\", messages=messages, extra_body={\"reasoning_effort\": \"medium\"})\n",
        "\n",
        "    answer = response.choices[0].message.content\n",
        "\n",
        "    if answer == '1':\n",
        "      return True\n",
        "    elif answer == '0':\n",
        "      return False\n",
        "    else:\n",
        "      raise ValueError(f\"Invalid answer: {answer}\")\n",
        "\n",
        "async def ask_synergy(product_A: str, product_B: str, text: str) -> bool:\n",
        "\n",
        "  prompt = PROMPT_CHECK_TEMPLATE_BUSINESS.format(product_A=product_A, product_B=product_B, content=text)\n",
        "\n",
        "  async with openai_semaphore:\n",
        "    response = await openai_client.chat.completions.create(model=\"gpt-4o-mini\", messages=[{\"role\": \"system\", \"content\": \"You are technology and business expert\"},\\\n",
        "                                                                                          {\"role\": \"user\", \"content\": prompt}], temperature=0, logprobs=True)\n",
        "\n",
        "  token = response.choices[0].logprobs.content[0].token\n",
        "\n",
        "  if token == '1':\n",
        "    return np.exp(response.choices[0].logprobs.content[0].logprob)\n",
        "  else:\n",
        "    return False\n",
        "\n",
        "async def filter_synergies(product_A: str, product_B: str, citations: list[str]) -> list[str]:\n",
        "    synergies = []\n",
        "    for citation_url in tqdm(citations, desc='Processing citations synergy'):\n",
        "        citation_content = await get_citation_summary(citation_url)\n",
        "\n",
        "        if is_empty_text(citation_content):\n",
        "            continue\n",
        "\n",
        "        synergy_o3, synergy_gpt = await asyncio.gather(analyze_synergy(product_A, product_B, citation_content), ask_synergy(product_A, product_B, citation_content))\n",
        "\n",
        "        if synergy_o3 and (synergy_gpt > SYNERGY_THRESHOLD):\n",
        "            synergies.append((synergy_gpt, citation_url, citation_content))\n",
        "\n",
        "    return synergies\n",
        "# check synergy\n",
        "\n",
        "# get most probable case\n",
        "async def get_best_synergy(synergies: list[tuple[float, str, str]]) -> tuple[float, str, str]:\n",
        "\n",
        "    sorted_synergies = sorted(synergies, key=lambda x: x[0], reverse=True)\n",
        "\n",
        "    best_synergy = sorted_synergies[0][0]\n",
        "    best_synergy_url = sorted_synergies[0][1]\n",
        "    best_synergy_content = sorted_synergies[0][2]\n",
        "\n",
        "    return best_synergy, best_synergy_url, best_synergy_content\n",
        "#/get most probable case\n",
        "\n",
        "# product matching\n",
        "async def process_product(product_A: str, product_B: str):\n",
        "\n",
        "    default_result = {'best_relevance': 0, 'best_relevance_citation': '', 'best_relevance_citation_url': '', 'best_synergy': 0, 'best_synergy_citation': '', 'best_synergy_citation_url': ''}\n",
        "\n",
        "    try:\n",
        "      have_cases, citations = await find_cases(product_A, product_B, q_citations=15)\n",
        "      default_result['cases'] = citations\n",
        "\n",
        "      if not have_cases:\n",
        "          print(f'Skipping because of no cases ({product_A} + {product_B})')\n",
        "          return default_result\n",
        "\n",
        "      synergies = await filter_synergies(product_A, product_B, citations)\n",
        "      default_result['synergies'] = synergies\n",
        "\n",
        "      if len(synergies) == 0:\n",
        "          print(f'Skipping because of no synergy ({product_A} + {product_B})')\n",
        "          return default_result\n",
        "\n",
        "      # Get urls of citations with synergy\n",
        "      synergy_citations = [s[1] for s in synergies]\n",
        "\n",
        "      # # Calculate best relevance semantically\n",
        "      # best_relevance, best_relevance_citation_url, best_relevance_citation = await get_best_relevance(product_A, product_B, synergy_citations)\n",
        "\n",
        "      # Get the best synergy\n",
        "      best_synergy, best_synergy_citation_url, best_synergy_citation = await get_best_synergy(synergies)\n",
        "\n",
        "      return {'best_synergy': best_synergy, 'best_synergy_citation': best_synergy_citation, 'best_synergy_citation_url': best_synergy_citation_url}\n",
        "    except:\n",
        "      print(traceback.format_exc())\n",
        "      return default_result\n",
        "\n",
        "product_semaphore = asyncio.Semaphore(10)\n",
        "async def process_row(product_A, row):\n",
        "\n",
        "    async with product_semaphore:\n",
        "\n",
        "        product_B = row['Product']\n",
        "        result = await process_product(product_A, product_B)\n",
        "        return (row.name, result)\n",
        "\n",
        "async def process_all_rows(product_A: str, df: pd.DataFrame):\n",
        "\n",
        "    tasks = [process_row(product_A, row) for _, row in df.iterrows()]\n",
        "    results = await tqdm_async.gather(*tasks, desc='Processing items')\n",
        "    return results\n",
        "#/product matching\n",
        "\n",
        "# text translation\n",
        "async def english_translate(text):\n",
        "\n",
        "  system_prompt = \"You are technology and business expert\"\n",
        "\n",
        "  messages = [{\"role\": \"system\", \"content\": system_prompt}, {\"role\": \"user\", \"content\": 'give transalation into English of this text (one phrase without explanation)' + \": '\" + text + \"'\"}]\n",
        "\n",
        "  async with openai_semaphore:\n",
        "    completion = await openai_client.chat.completions.create(model=\"gpt-4o-mini\", messages=messages, temperature=0)\n",
        "    content = completion.choices[0].message.content\n",
        "\n",
        "  return str(content).replace('\"','')\n",
        "#/text translation\n",
        "\n",
        "# extract technology\n",
        "def extract_technology(text):\n",
        "\n",
        "  client = OpenAI()\n",
        "\n",
        "  system_prompt = \"Ты эксперт по технологическим инновациям\"\n",
        "\n",
        "  messages = [{\"role\": \"system\", \"content\": system_prompt}, {\"role\": \"user\", \"content\": \"Извлеки из этого описания технологии (не продукты, не решаемые задачи и не применения технологий),\\\n",
        "   которые используется для создания продукта - одна фраза без дополнительного текста, технологии - через запятую\" + \": '\" + text + \"'\"}]\n",
        "\n",
        "  completion = client.chat.completions.create(model=\"gpt-4o-mini\", messages=messages, temperature=0)\n",
        "  content = completion.choices[0].message.content\n",
        "\n",
        "  return str(content).replace('\"','').replace('.','')\n",
        "#/extract technology\n",
        "\n",
        "# parallel computations\n",
        "def parallel_text_func(texts, func, max_workers: int = 10):\n",
        "    with ThreadPoolExecutor(max_workers=max_workers) as executor:\n",
        "        results = list(tqdm(executor.map(lambda x: func(x), texts), total=len(texts)))\n",
        "    return results\n",
        "#/parallel computations\n",
        "\n",
        "# check empty string\n",
        "def is_empty_text(text: str) -> bool:#ok\n",
        "    cleaned_text = re.sub(r'[^A-Za-zА-Яа-я]', '', text)\n",
        "    return len(cleaned_text.strip()) == 0\n",
        "#/check empty string"
      ]
    },
    {
      "cell_type": "markdown",
      "metadata": {
        "id": "O-TcdpMtF34X"
      },
      "source": [
        "##### Prepare data for analysis:"
      ]
    },
    {
      "cell_type": "code",
      "execution_count": 50,
      "metadata": {
        "colab": {
          "base_uri": "https://localhost:8080/"
        },
        "id": "e0632kVN59gq",
        "outputId": "57505496-08cd-4cdd-a8e0-aed771495dab"
      },
      "outputs": [
        {
          "output_type": "stream",
          "name": "stdout",
          "text": [
            "Mounted at /content/drive\n",
            "+----------------------------+--------------------------------------------+------------------------------------------------------------------------------------+\n",
            "| Наименование               | Сайт                                       | Продукты и услуги                                                                  |\n",
            "+============================+============================================+====================================================================================+\n",
            "| АО \"Бионет\"                | http://bionet-pellets.ru/                  | Топливные гранулы из гидролизного лигнина для производства биомассы                |\n",
            "+----------------------------+--------------------------------------------+------------------------------------------------------------------------------------+\n",
            "| ООО \"Марин Солюшнc Сервис\" | http://www.marinesolutions.ru/ru/index.php | Системы автоматического управления и термальные системы для судоходной отрасли     |\n",
            "+----------------------------+--------------------------------------------+------------------------------------------------------------------------------------+\n",
            "| ООО \"Альфаван\"             | https://alphaone.ru/                       | IT решение для для автоматизации и оптимизации работы фармацевтических организаций |\n",
            "+----------------------------+--------------------------------------------+------------------------------------------------------------------------------------+\n",
            "| ООО \"АМС ПРО\"              | https://ams-group.ru/                      | Полимерные трубы для водоснабжения | полимерные трубы для энергетики               |\n",
            "+----------------------------+--------------------------------------------+------------------------------------------------------------------------------------+\n",
            "| ООО \"АМС ПРО\"              | https://ams-group.ru/                      | Полимерные трубы для водоснабжения | полимерные трубы для энергетики               |\n",
            "+----------------------------+--------------------------------------------+------------------------------------------------------------------------------------+\n",
            "\n",
            "Число продуктов для анализа: 57\n",
            "Число компаний для анализа: 30\n"
          ]
        }
      ],
      "source": [
        "drive.mount('/content/drive', force_remount=True)\n",
        "\n",
        "!cp -r '/content/drive/My Drive/Assets-L.xlsx' '/content/'\n",
        "df = pd.read_excel(\"Assets-L.xlsx\")[:30]\n",
        "\n",
        "df = df.dropna(subset=['Продукты и услуги [EN]'])\n",
        "df['Продукты и услуги [EN]'] = df['Продукты и услуги [EN]'].str.split('|')\n",
        "df = df.explode('Продукты и услуги [EN]')\n",
        "\n",
        "df['Company'] = df['Наименование'].astype(str)\n",
        "df['Product'] = df['Продукты и услуги [EN]'].str.strip().str.capitalize()\n",
        "\n",
        "df.reset_index(drop=True, inplace=True)\n",
        "companies, products, products_en = list(df['Company']), list(df['Product']), list(df['Product'])\n",
        "\n",
        "print(df[['Наименование', 'Сайт', 'Продукты и услуги']].head().to_markdown(index=False, tablefmt=\"grid\"))\n",
        "\n",
        "print('\\nЧисло продуктов для анализа:', len(set(products)))\n",
        "print('Число компаний для анализа:', len(set(companies)))"
      ]
    },
    {
      "cell_type": "markdown",
      "metadata": {
        "id": "J60lxRfwKEyp"
      },
      "source": [
        "##### Define product in the center of molecule:"
      ]
    },
    {
      "cell_type": "code",
      "execution_count": 51,
      "metadata": {
        "id": "e_Vd9HABKNK-"
      },
      "outputs": [],
      "source": [
        "product_ru = '3D печать керамикой'\n",
        "product_A = await english_translate(product_ru)"
      ]
    },
    {
      "cell_type": "markdown",
      "metadata": {
        "id": "BorJOnC6qz3q"
      },
      "source": [
        "##### Supress warnings:"
      ]
    },
    {
      "cell_type": "code",
      "execution_count": 52,
      "metadata": {
        "id": "GqF8g6qkqy2n"
      },
      "outputs": [],
      "source": [
        "warnings.filterwarnings('ignore')"
      ]
    },
    {
      "cell_type": "markdown",
      "metadata": {
        "id": "I59uegNfTO3Z"
      },
      "source": [
        "##### Compute molecule:"
      ]
    },
    {
      "cell_type": "code",
      "execution_count": 53,
      "metadata": {
        "colab": {
          "base_uri": "https://localhost:8080/",
          "height": 1000,
          "referenced_widgets": [
            "2a962f9dd5b841cf9400b676273c8e77",
            "e8cee9eb6f734954b76c6e869d725d55",
            "6ffb7479510c430c99c13c5784298be3",
            "d87f956c14114436b64e5b079193571c",
            "0d6d13fe006b455aad6fd15152200c77",
            "8d0a7801f5f342368bcf5b4db5a7ed90",
            "c000d225f0414ea9859fb76d8e11434a",
            "189965b1aeb14ab0afbe86e9235b4161",
            "d98e3eff2cde4e7084291dd0ff46baa3",
            "354030427ecc47e89dd87658873609ec",
            "6bd132062af1414198bcd77b027a3b7a",
            "ed72373f720b48b2a58216d2c0ac42d4",
            "7c12d5dd4847418d9bc9c2593a9daa24",
            "0f2d79277dab4a78a2db2ce31bd41dbc",
            "7f7aeb4b0eb64dcda43d618024b9e653",
            "ab707343a806414ca6a7657b0bbe63f7",
            "5c794688b0de4ee0b96ffc7ecbb4f6d7",
            "a1fafa5a92514d94bed764ca54ef2709",
            "ccfe4ca2e5dd458d808868ff3fa4cf6d",
            "7d950c3b04f84e118d96bcd9806a2c0d",
            "da75db9cced94dc8b8d64eaa486acff8",
            "69984e45e0c347558029161516eeab1b",
            "30d61061d1c24a6ba4cf215e2890f959",
            "cbdb2df18f99428982f85f4212b21e83",
            "2276fa8141d74a79b2893edbec8f9030",
            "0335d65de47a4aa3836510b50d25a1e4",
            "5804135dab5e4660b7ed59e126b8cc10",
            "d9787bfbbac64c429d7f63b56d477073",
            "73c13cb24d894368b7b1b72de1e41688",
            "32b67d90539048988671280275bebf9b",
            "b5007f4c273d4cb4b5d6f9f89aaa208a",
            "f01ee866443342d587053f873ab71f3c",
            "7f8c55d8d46d4170a8da4f3aef1c788b",
            "ea8d37945ab044a99481adcfac465118",
            "0ad8104c8d6342cfa1dd9903bdd28772",
            "5199c2839a7b424cb582a9c61b469530",
            "1fa2825354004a90a54df5b888480649",
            "86d7dd9129b94099938265c72d4b1def",
            "701384edf25c41f0a5d885f16a22bd13",
            "260d857d261740f3b10c377c1e5b1353",
            "0184606544d548a9a31a2b73a143ec01",
            "d60c6bba6e294cc887f0c42653c63f07",
            "fe98200fee9f4d17a8a3ac1cf47e882c",
            "cec355253da64ddfbe29e1af0cb38241",
            "985c6fa516894b8c8f9d42ca333982d5",
            "d649a6eb0e2f4a59af7ce51b426a8086",
            "6786e2733e63448794c958be70658d19",
            "bc8cc31fa365429e98dc082d1de28ebd",
            "fbeb28df77a94f69b8f0826054b4e1c6",
            "fe856ece93e64e888615ee52efaa4740",
            "189033d5c8504a8ca65156bd34b5e26a",
            "94fbf9623c734cdcb4ca3a29ddfe045e",
            "d802d77b63704c38be36bbf3e98a6a2e",
            "3030dd8231634306b210f89f50b3f58b",
            "455c86ae05034950a3e1e52535681de5",
            "a20f9e1f90634292887b908e0874bd72",
            "14b5dad078854d7ebae337a118120437",
            "cdfae4aa5b20457597c5023003aac2cb",
            "0fae8a7a6b6741cd98a90e0c371580d7",
            "79ee453d5e0048cfacf91ef4c574de02",
            "ea686d7a813d4b17bd631c505f822948",
            "6a0cb4e282a44049bdc07ecd618d458b",
            "6ee1a945a6ec43cfa5626a80c79c23b9",
            "3cf23fe0d6474c859b53f7e16f0cec63",
            "bf236a05f6764013bb97d9c13283a8cf",
            "09b541637b844fa484fb5a40a6a965af"
          ]
        },
        "id": "gS9ZZw9tTDTc",
        "outputId": "9b79263d-4b90-4c6e-a03e-2ab0d3608d4f"
      },
      "outputs": [
        {
          "output_type": "stream",
          "name": "stderr",
          "text": [
            "Processing items:   2%|▏         | 1/57 [00:02<02:26,  2.61s/it]"
          ]
        },
        {
          "output_type": "stream",
          "name": "stdout",
          "text": [
            "Skipping because of no cases (3D printing with ceramics + Automatic control systems and thermal systems for the shipping industry)\n"
          ]
        },
        {
          "output_type": "display_data",
          "data": {
            "text/plain": [
              "Processing citations synergy:   0%|          | 0/10 [00:00<?, ?it/s]"
            ],
            "application/vnd.jupyter.widget-view+json": {
              "version_major": 2,
              "version_minor": 0,
              "model_id": "2a962f9dd5b841cf9400b676273c8e77"
            }
          },
          "metadata": {}
        },
        {
          "output_type": "stream",
          "name": "stdout",
          "text": [
            "Skipping because of no cases (3D printing with ceramics + Platform for data processing and management)\n"
          ]
        },
        {
          "output_type": "display_data",
          "data": {
            "text/plain": [
              "Processing citations synergy:   0%|          | 0/8 [00:00<?, ?it/s]"
            ],
            "application/vnd.jupyter.widget-view+json": {
              "version_major": 2,
              "version_minor": 0,
              "model_id": "ed72373f720b48b2a58216d2c0ac42d4"
            }
          },
          "metadata": {}
        },
        {
          "output_type": "stream",
          "name": "stderr",
          "text": [
            "\rProcessing items:   4%|▎         | 2/57 [00:09<04:55,  5.37s/it]"
          ]
        },
        {
          "output_type": "stream",
          "name": "stdout",
          "text": [
            "Skipping because of no cases (3D printing with ceramics + Polymer pipes for power engineering)\n",
            "Skipping because of no cases (3D printing with ceramics + Fittings for polypropylene pipes)\n",
            "Skipping because of no cases (3D printing with ceramics + Web applications)\n",
            "Skipping because of no cases (3D printing with ceramics + Ethanolamines)\n",
            "Skipping because of no cases (3D printing with ceramics + Software for intelligent mutual search of projects and teams)\n",
            "Skipping because of no cases (3D printing with ceramics + Corrugated pipes for storm and domestic sewerage)\n",
            "Skipping because of no cases (3D printing with ceramics + Heating electrofusion elements)\n"
          ]
        },
        {
          "output_type": "stream",
          "name": "stderr",
          "text": [
            "\rProcessing items:  18%|█▊        | 10/57 [00:11<00:41,  1.12it/s]"
          ]
        },
        {
          "output_type": "stream",
          "name": "stdout",
          "text": [
            "Skipping because of no cases (3D printing with ceramics + Mobile chat platforms)\n"
          ]
        },
        {
          "output_type": "stream",
          "name": "stderr",
          "text": [
            "Processing items:  21%|██        | 12/57 [00:12<00:31,  1.43it/s]"
          ]
        },
        {
          "output_type": "stream",
          "name": "stdout",
          "text": [
            "Skipping because of no cases (3D printing with ceramics + Alkylethanolamines)\n",
            "Skipping because of no cases (3D printing with ceramics + Raman microspectroscopy based on compact lasers)\n",
            "Skipping because of no cases (3D printing with ceramics + Gas chromatographs for oil and gas industry)\n"
          ]
        },
        {
          "output_type": "stream",
          "name": "stderr",
          "text": [
            "\rProcessing items:  26%|██▋       | 15/57 [00:12<00:18,  2.28it/s]"
          ]
        },
        {
          "output_type": "stream",
          "name": "stdout",
          "text": [
            "Skipping because of no cases (3D printing with ceramics + Electrode-based central nervous system electrical stimulation system)\n",
            "Skipping because of no cases (3D printing with ceramics + Femtosecond lasers)\n"
          ]
        },
        {
          "output_type": "stream",
          "name": "stderr",
          "text": [
            "Processing items:  30%|██▉       | 17/57 [00:13<00:18,  2.17it/s]"
          ]
        },
        {
          "output_type": "stream",
          "name": "stdout",
          "text": [
            "Skipping because of no cases (3D printing with ceramics + Machine learning-based autopilot systems for tractors and combines)\n",
            "Skipping because of no cases (3D printing with ceramics + Software development automation platform: using generative ai models)\n"
          ]
        },
        {
          "output_type": "display_data",
          "data": {
            "text/plain": [
              "Processing citations synergy:   0%|          | 0/10 [00:00<?, ?it/s]"
            ],
            "application/vnd.jupyter.widget-view+json": {
              "version_major": 2,
              "version_minor": 0,
              "model_id": "30d61061d1c24a6ba4cf215e2890f959"
            }
          },
          "metadata": {}
        },
        {
          "output_type": "stream",
          "name": "stdout",
          "text": [
            "Skipping because of no cases (3D printing with ceramics + Rehabilitation after limb amputation)\n",
            "Skipping because of no cases (3D printing with ceramics + Heat shrink tapes for oil pipelines)\n",
            "Skipping because of no cases (3D printing with ceramics + Mobile application for refueling cars)\n",
            "Skipping because of no cases (3D printing with ceramics + Single photon detector)\n",
            "Skipping because of no cases (3D printing with ceramics + Miniature quantum key transmitter)\n",
            "Skipping because of no cases (3D printing with ceramics + It solution for automation and optimization of pharmaceutical organizations)\n"
          ]
        },
        {
          "output_type": "display_data",
          "data": {
            "text/plain": [
              "Processing citations synergy:   0%|          | 0/7 [00:00<?, ?it/s]"
            ],
            "application/vnd.jupyter.widget-view+json": {
              "version_major": 2,
              "version_minor": 0,
              "model_id": "ea8d37945ab044a99481adcfac465118"
            }
          },
          "metadata": {}
        },
        {
          "output_type": "stream",
          "name": "stderr",
          "text": [
            "Processing items:  42%|████▏     | 24/57 [00:21<00:27,  1.19it/s]"
          ]
        },
        {
          "output_type": "stream",
          "name": "stdout",
          "text": [
            "Skipping because of no cases (3D printing with ceramics + Hydrolytic lignin fuel pellets for biomass production)\n"
          ]
        },
        {
          "output_type": "stream",
          "name": "stderr",
          "text": [
            "Processing items:  46%|████▌     | 26/57 [00:22<00:20,  1.51it/s]"
          ]
        },
        {
          "output_type": "stream",
          "name": "stdout",
          "text": [
            "Skipping because of no cases (3D printing with ceramics + Quantum key distribution system)\n",
            "Skipping because of no cases (3D printing with ceramics + System for joint prototyping of software systems)\n"
          ]
        },
        {
          "output_type": "stream",
          "name": "stderr",
          "text": [
            "\rProcessing items:  47%|████▋     | 27/57 [00:22<00:17,  1.74it/s]"
          ]
        },
        {
          "output_type": "stream",
          "name": "stdout",
          "text": [
            "Skipping because of no cases (3D printing with ceramics + Polyethylene pipes)\n"
          ]
        },
        {
          "output_type": "stream",
          "name": "stderr",
          "text": [
            "\rProcessing items:  49%|████▉     | 28/57 [00:23<00:18,  1.53it/s]"
          ]
        },
        {
          "output_type": "stream",
          "name": "stdout",
          "text": [
            "Skipping because of no cases (3D printing with ceramics + Electronic data catalog for business - integrates metadata from various processing systems for data analysis)\n"
          ]
        },
        {
          "output_type": "stream",
          "name": "stderr",
          "text": [
            "\rProcessing items:  51%|█████     | 29/57 [00:23<00:16,  1.72it/s]"
          ]
        },
        {
          "output_type": "stream",
          "name": "stdout",
          "text": [
            "Skipping because of no cases (3D printing with ceramics + Pvc pipelines)\n"
          ]
        },
        {
          "output_type": "stream",
          "name": "stderr",
          "text": [
            "\rProcessing items:  53%|█████▎    | 30/57 [00:24<00:16,  1.65it/s]"
          ]
        },
        {
          "output_type": "stream",
          "name": "stdout",
          "text": [
            "Skipping because of no cases (3D printing with ceramics + Software)\n",
            "Skipping because of no cases (3D printing with ceramics + Heat shrink tapes for heating pipes)\n"
          ]
        },
        {
          "output_type": "stream",
          "name": "stderr",
          "text": [
            "\rProcessing items:  56%|█████▌    | 32/57 [00:24<00:10,  2.45it/s]"
          ]
        },
        {
          "output_type": "stream",
          "name": "stdout",
          "text": [
            "Skipping because of no cases (3D printing with ceramics + Polymer pipes)\n"
          ]
        },
        {
          "output_type": "display_data",
          "data": {
            "text/plain": [
              "Processing citations synergy:   0%|          | 0/8 [00:00<?, ?it/s]"
            ],
            "application/vnd.jupyter.widget-view+json": {
              "version_major": 2,
              "version_minor": 0,
              "model_id": "985c6fa516894b8c8f9d42ca333982d5"
            }
          },
          "metadata": {}
        },
        {
          "output_type": "stream",
          "name": "stderr",
          "text": [
            "\rProcessing items:  58%|█████▊    | 33/57 [00:31<00:45,  1.92s/it]"
          ]
        },
        {
          "output_type": "stream",
          "name": "stdout",
          "text": [
            "Skipping because of no cases (3D printing with ceramics + It solutions for digitalization of industrial enterprises)\n",
            "Skipping because of no cases (3D printing with ceramics + Nuclear submarine repair)\n",
            "Skipping because of no cases (3D printing with ceramics + Composite pipes for microtunneling)\n",
            "Skipping because of no cases (3D printing with ceramics + Heat shrink tapes for gas pipelines)\n",
            "Skipping because of no cases (3D printing with ceramics + Bionic hand prostheses)\n"
          ]
        },
        {
          "output_type": "stream",
          "name": "stderr",
          "text": [
            "\rProcessing items:  67%|██████▋   | 38/57 [00:41<00:36,  1.92s/it]"
          ]
        },
        {
          "output_type": "stream",
          "name": "stdout",
          "text": [
            "Skipping because of no cases (3D printing with ceramics + Bionic leg prostheses)\n"
          ]
        },
        {
          "output_type": "stream",
          "name": "stderr",
          "text": [
            "\rProcessing items:  68%|██████▊   | 39/57 [00:42<00:31,  1.72s/it]"
          ]
        },
        {
          "output_type": "stream",
          "name": "stdout",
          "text": [
            "Skipping because of no cases (3D printing with ceramics + Quarry equipment)\n"
          ]
        },
        {
          "output_type": "stream",
          "name": "stderr",
          "text": [
            "\rProcessing items:  70%|███████   | 40/57 [00:42<00:25,  1.51s/it]"
          ]
        },
        {
          "output_type": "stream",
          "name": "stdout",
          "text": [
            "Skipping because of no cases (3D printing with ceramics + Mobile power plants based on fuel cells)\n"
          ]
        },
        {
          "output_type": "stream",
          "name": "stderr",
          "text": [
            "\rProcessing items:  72%|███████▏  | 41/57 [00:44<00:25,  1.57s/it]"
          ]
        },
        {
          "output_type": "stream",
          "name": "stdout",
          "text": [
            "Skipping because of no cases (3D printing with ceramics + Authentication and access control information systems)\n",
            "Skipping because of no cases (3D printing with ceramics + Intelligent software requirements management system)\n"
          ]
        },
        {
          "output_type": "display_data",
          "data": {
            "text/plain": [
              "Processing citations synergy:   0%|          | 0/10 [00:00<?, ?it/s]"
            ],
            "application/vnd.jupyter.widget-view+json": {
              "version_major": 2,
              "version_minor": 0,
              "model_id": "a20f9e1f90634292887b908e0874bd72"
            }
          },
          "metadata": {}
        },
        {
          "output_type": "stream",
          "name": "stderr",
          "text": [
            "\rProcessing items:  75%|███████▌  | 43/57 [00:47<00:22,  1.62s/it]"
          ]
        },
        {
          "output_type": "stream",
          "name": "stdout",
          "text": [
            "Skipping because of no cases (3D printing with ceramics + Nuclear submarine modernization)\n",
            "Skipping because of no cases (3D printing with ceramics + Shut-off valves)\n",
            "Skipping because of no cases (3D printing with ceramics + Energy saving systems for industrial facilities)\n",
            "Skipping because of no cases (3D printing with ceramics + Joint sealing kits)\n"
          ]
        },
        {
          "output_type": "stream",
          "name": "stderr",
          "text": [
            "\rProcessing items:  82%|████████▏ | 47/57 [00:52<00:14,  1.42s/it]"
          ]
        },
        {
          "output_type": "stream",
          "name": "stdout",
          "text": [
            "Skipping because of no cases (3D printing with ceramics + Surfactants } construction chemistry)\n",
            "Skipping because of no cases (3D printing with ceramics + Heat shrink sleeves)\n",
            "Skipping because of no cases (3D printing with ceramics + Blockchain solutions)\n"
          ]
        },
        {
          "output_type": "stream",
          "name": "stderr",
          "text": [
            "\rProcessing items:  88%|████████▊ | 50/57 [00:55<00:08,  1.19s/it]"
          ]
        },
        {
          "output_type": "stream",
          "name": "stdout",
          "text": [
            "Skipping because of no cases (3D printing with ceramics + Quantum random number generator)\n",
            "Skipping because of no cases (3D printing with ceramics + System for designing architectural it models)\n"
          ]
        },
        {
          "output_type": "stream",
          "name": "stderr",
          "text": [
            "\rProcessing items:  89%|████████▉ | 51/57 [01:02<00:12,  2.11s/it]"
          ]
        },
        {
          "output_type": "stream",
          "name": "stdout",
          "text": [
            "Scraping failed for URL: https://all3dp.com/printabowl-hit-high-3d-printed-water-bong/\n"
          ]
        },
        {
          "output_type": "stream",
          "name": "stderr",
          "text": [
            "Processing items:  93%|█████████▎| 53/57 [05:43<02:41, 40.40s/it]"
          ]
        },
        {
          "output_type": "stream",
          "name": "stdout",
          "text": [
            "Skipping because of no synergy (3D printing with ceramics + Welding equipment for heat shrink sleeves)\n"
          ]
        },
        {
          "output_type": "stream",
          "name": "stderr",
          "text": [
            "\rProcessing items:  95%|█████████▍| 54/57 [05:55<01:42, 34.03s/it]"
          ]
        },
        {
          "output_type": "stream",
          "name": "stdout",
          "text": [
            "Skipping because of no synergy (3D printing with ceramics + Polymer pipes for water supply)\n"
          ]
        },
        {
          "output_type": "stream",
          "name": "stderr",
          "text": [
            "Processing items: 100%|██████████| 57/57 [06:28<00:00,  6.81s/it]\n"
          ]
        }
      ],
      "source": [
        "scrap_true_count, scrap_false_count = 0, 0\n",
        "\n",
        "output_df = df.copy()\n",
        "output_df['Input Product'] = product_A\n",
        "\n",
        "# Run the async processing\n",
        "results = await process_all_rows(product_A, output_df)\n",
        "\n",
        "# Update df with results\n",
        "for i, result in results:\n",
        "\n",
        "    output_df.loc[i, 'best_synergy'] = result['best_synergy']\n",
        "    output_df.loc[i, 'best_synergy_citation'] = result['best_synergy_citation']\n",
        "    output_df.loc[i, 'best_synergy_citation_url'] = result['best_synergy_citation_url']\n",
        "\n",
        "synergy_df = output_df[output_df['best_synergy'] > 0].copy()\n",
        "synergy_df['target'] = product_ru\n",
        "\n",
        "for i, row in synergy_df.iterrows():\n",
        "    citation = row['best_synergy_citation']\n",
        "\n",
        "    completion = await openai_client.chat.completions.create(\n",
        "        model='gpt-4o',\n",
        "        messages=[\n",
        "            {\n",
        "                'role': 'system',\n",
        "                'content': 'You are a technology and business expert.'\n",
        "            },\n",
        "            {\n",
        "                'role': 'user',\n",
        "                'content': f'Translate this citation to Russian. Output only translation, without any other text: {citation}'\n",
        "            }\n",
        "        ]\n",
        "    )\n",
        "\n",
        "    translation = completion.choices[0].message.content\n",
        "    synergy_df.loc[i, 'best_synergy_citation_ru'] = translation\n",
        "\n",
        "output.eval_js('new Audio(\"https://upload.wikimedia.org/wikipedia/commons/0/05/Beep-09.ogg\").play()')"
      ]
    },
    {
      "cell_type": "markdown",
      "metadata": {
        "id": "bH8GueqNhFp5"
      },
      "source": [
        "##### Show molecule:"
      ]
    },
    {
      "cell_type": "code",
      "execution_count": 56,
      "metadata": {
        "colab": {
          "base_uri": "https://localhost:8080/"
        },
        "id": "qsX3tTF2Y7C-",
        "outputId": "44e85519-9e3a-4bce-af9e-8091e8b189dd"
      },
      "outputs": [
        {
          "output_type": "stream",
          "name": "stdout",
          "text": [
            "\n",
            " +------------------------+----------------------------------------------+-------------------------------------------------------------------------------------------------------------------------------------------------------------------------------------------------------------------------------------------------------------------------------------------------------------------------------------------------------------------------------------------------------------------------------------------------------------------------------------------------------------------------------------------------------------------------------------------------------------------------------------------------------------------------------------------------------------------------------------------------------------------------------------------------------------------------------------------+-------------------------------------------------------------------------------------------------------------------------------------------------------------------------------------------------------------------------------------------------------------------------------------------------------------------------------------------------------------------------------------------------------------------------------------------------------------------------------------------------------------------------------------------------------------------------------------------------------------------------------------------------------------------------------------------------------------------------------------------------------------------------------------------------------------------------------------------------------------------------------------------------------------------------------------------------------------------------------------------------------------------------------------------------------------------------------------------------------------------------------------------------------------------------------------------------------------------------------+------------------------------------------------------------------------------------------------------------------------------------------------+\n",
            "| Сайт                   | Наименование                                 | Описание компании                                                                                                                                                                                                                                                                                                                                                                                                                                                                                                                                                                                                                                                                                                                                                                                                                         | Краткое описание кейса                                                                                                                                                                                                                                                                                                                                                                                                                                                                                                                                                                                                                                                                                                                                                                                                                                                                                                                                                                                                                                                                                                                                                                                                        | Ссылка на кейс                                                                                                                                 |\n",
            "+========================+==============================================+===========================================================================================================================================================================================================================================================================================================================================================================================================================================================================================================================================================================================================================================================================================================================================================================================================================================+===============================================================================================================================================================================================================================================================================================================================================================================================================================================================================================================================================================================================================================================================================================================================================================================================================================================================================================================================================================================================================================================================================================================================================================================================================================+================================================================================================================================================+\n",
            "| https://euroetpao.ru/  | ООО \"Европейская Электротехника Новосибирск\" | ПАО \"Европейская Электротехника\" предлагает инновационные решения в области электроснабжения и энергосбережения для сложных промышленных объектов, включая энергетический, нефтегазовый и машиностроительный сектора. Компания активно разрабатывает и реализует уникальные проекты, поддерживая более 500 инновационных инициатив на различных стадиях. Основное внимание уделяется созданию и внедрению инженерно-технических решений, а также работе с талантами и инжинирингом. ПАО \"Европейская Электротехника\" также занимается проектированием, поставкой оборудования и монтажом систем электроснабжения, обеспечивая полный цикл услуг для своих клиентов. Миссия компании заключается в сохранении ресурсов и развитии технологий энергосбережения, что делает её вклад важным для устойчивого развития планеты.                | Prodways специализируется на передовых технологиях 3D-печати, особенно в секторе керамики, который жизненно важен для приложений в области производства электроэнергии. Их технология MOVINGLight® DLP производит высокопроизводительные керамические детали, способные выдерживать экстремальные условия, что позволяет создавать сложные геометрии, которые традиционные методы не могут достичь. Серия принтеров Ceram Pro адаптирована для энергетического сектора и предлагает высокую точность и быстрые скорости производства для нестандартных деталей, которые повышают надежность систем. Используя такие материалы, как SILICA SICAST 1200 и ALUMINA PHOTX A100, решения Prodways обеспечивают исключительную термическую стабильность и электрическую изоляцию, снижая затраты на обслуживание и увеличивая срок службы компонентов. В целом, инновационные технологии керамической 3D-печати от Prodways помогают производителям энергии повышать операционную эффективность, снижать запасы и адаптироваться к меняющимся требованиям.                                                                                                                                                                          | https://www.prodways.com/application/industrial/power-generation/                                                                              |\n",
            "+------------------------+----------------------------------------------+-------------------------------------------------------------------------------------------------------------------------------------------------------------------------------------------------------------------------------------------------------------------------------------------------------------------------------------------------------------------------------------------------------------------------------------------------------------------------------------------------------------------------------------------------------------------------------------------------------------------------------------------------------------------------------------------------------------------------------------------------------------------------------------------------------------------------------------------+-------------------------------------------------------------------------------------------------------------------------------------------------------------------------------------------------------------------------------------------------------------------------------------------------------------------------------------------------------------------------------------------------------------------------------------------------------------------------------------------------------------------------------------------------------------------------------------------------------------------------------------------------------------------------------------------------------------------------------------------------------------------------------------------------------------------------------------------------------------------------------------------------------------------------------------------------------------------------------------------------------------------------------------------------------------------------------------------------------------------------------------------------------------------------------------------------------------------------------+------------------------------------------------------------------------------------------------------------------------------------------------+\n",
            "| https://labadvance.ru/ | ООО \"ЛАБАДВАНС\"                              | Компания LABADVANCE разрабатывает микрофлюидные технологии для лабораторных исследований в нефтегазовой отрасли, медицине и научных исследованиях, что позволяет повысить эффективность и сократить затраты на исследования. Основные продукты компании включают лабораторные микрофлюидные установки, шприцевые насосы и газовые хроматографы, которые обеспечивают высокую точность и скорость экспериментов. В нефтегазовой отрасли LABADVANCE предлагает решения для PVT-исследований и гидроразрыва пласта, что способствует оптимизации добычи. В медицине компания разрабатывает портативные диагностические приборы, упрощая процессы тестирования и лечения. Также LABADVANCE сотрудничает с научными лабораториями, предоставляя оборудование для химического анализа и биохимии.                                               | Prismlab специализируется на передовых технологиях 3D-печати, в частности, керамических 3D-принтерах, таких как серия CP CP-200JD, которые создают высококачественные микрофлюидные компоненты, используя керамические материалы, известные своей эстетикой, химической стойкостью и биосовместимостью. Технологии компании ценны в различных отраслях, включая медицину, аэрокосмическую, автомобильную и архитектурную, где прочность и точность имеют решающее значение. Керамическая 3D-печать все чаще заменяет традиционные методы производства, предлагая лёгкие компоненты, превосходно работающие в экстремальных условиях, что делает их пригодными для использования в космических полетах и авиации. В дополнение к керамическим принтерам, Prismlab предоставляет продукцию, такую как стоматологические фольги и устройства для обрезки прозрачных капп, уделяя особое внимание обучению пользователей и поддержке для максимального использования потенциала технологий. В целом, Prismlab стремится лидировать в области высокотехнологичных решений для 3D-печати, способствуя развитию глобальных деловых отношений и постоянным инновациям.                                                                | https://www.prismlab.com/high-definition-microfluidic-3d-printing-cp-series-cp-200jd-brand-sms-industrial-ceramic-3d-printer-prismlab-product/ |\n",
            "+------------------------+----------------------------------------------+-------------------------------------------------------------------------------------------------------------------------------------------------------------------------------------------------------------------------------------------------------------------------------------------------------------------------------------------------------------------------------------------------------------------------------------------------------------------------------------------------------------------------------------------------------------------------------------------------------------------------------------------------------------------------------------------------------------------------------------------------------------------------------------------------------------------------------------------+-------------------------------------------------------------------------------------------------------------------------------------------------------------------------------------------------------------------------------------------------------------------------------------------------------------------------------------------------------------------------------------------------------------------------------------------------------------------------------------------------------------------------------------------------------------------------------------------------------------------------------------------------------------------------------------------------------------------------------------------------------------------------------------------------------------------------------------------------------------------------------------------------------------------------------------------------------------------------------------------------------------------------------------------------------------------------------------------------------------------------------------------------------------------------------------------------------------------------------+------------------------------------------------------------------------------------------------------------------------------------------------+\n",
            "| https://r-i-g.ru/      | ООО \"РУСИНЖГИДРО\"                            | Компания «РусИнжГидро» занимается производством и проектированием наружных инженерных систем, включая изделия из полиэтилена, очистные сооружения и системы водоподготовки. В ассортимент продукции входят насосные станции, системы очистки сточных вод, водоподготовки, а также композитные трубы для микротоннелирования. Основные задачи компании заключаются в модернизации оборудования и индивидуальном подходе к каждому проекту, что позволяет удовлетворять специфические требования клиентов. «РусИнжГидро» также предлагает услуги по проектированию и строительству очистных сооружений под ключ, обеспечивая полное сопровождение проекта. Преимущества компании включают собственное производство, лабораторные испытания и использование современных технологий, что гарантирует высокое качество и надежность продукции. | Исследователи из Университета Бат создали керамические монолиты, напечатанные на 3D-принтере, которые эффективно удаляют пер- и полифталатные вещества (PFAS) из воды, достигая 75% снижения уровня PFOA всего за три минуты. Эти четырехсантиметровые монолиты имеют решетчатый дизайн, увеличивающий их площадь поверхности для улучшенной очистки, и могут быть изготовлены с использованием керамического 3D-принтера VormVrij Lutum®5 с чернилами из индий оксида, что позволяет масштабировать производство. Монолиты могут быть восстановлены с помощью высокотемпературной термообработки, что делает их многоразовыми и экономически выгодными для использования в системах очистки воды. Их совместимость с существующими водоочистными сооружениями в Великобритании и за ее пределами увеличивает их рыночный потенциал, особенно в условиях роста спроса на решения для борьбы с \"вечными химикатами\". Это развитие представляет собой значительный шаг вперед в технологии очистки воды, объединяя передовое производство с экологической наукой и бизнес-инновациями.                                                                                                                                          | http://www.aquaa.com/3d-printed, https://3dprint.com/311948/3d-printing-for-water-treatment-ceramic-lattices-to-combat-forever-chemicals/      |\n",
            "|                        |                                              |                                                                                                                                                                                                                                                                                                                                                                                                                                                                                                                                                                                                                                                                                                                                                                                                                                           |                                                                                                                                                                                                                                                                                                                                                                                                                                                                                                                                                                                                                                                                                                                                                                                                                                                                                                                                                                                                                                                                                                                                                                                                                               |                                                                                                                                                |\n",
            "|                        |                                              |                                                                                                                                                                                                                                                                                                                                                                                                                                                                                                                                                                                                                                                                                                                                                                                                                                           | Исследователи из Университета Бат разработали 3D-печатную керамическую решетчатую структуру, которая эффективно удаляет вредные химические вещества PFAS из воды, достигая как минимум 75% снижения содержания перфтороктановой кислоты (PFOA). Эта масштабируемая и многоразовая технология, созданная с использованием специального чернила, содержащего окись индия, может быть интегрирована в существующие водоочистные сооружения, удовлетворяя растущий спрос на эффективное удаление PFAS по мере ужесточения нормативных требований. Исследование выделяет Vormvrij, семейное предприятие, специализирующееся на простых в использовании 3D-принтерах для глины, как ключевого игрока на этом развивающемся рынке, наряду с другими компаниями, такими как HP и Nano Sun, исследующими аналогичные приложения. Более широкая индустрия 3D-печати испытывает значительный рост, с применением от здравоохранения до аэрокосмической отрасли, и, по прогнозам, достигнет рыночной стоимости в 3,9 миллиарда долларов. В целом, интеграция 3D-печати в экологические и промышленные приложения демонстрирует ее потенциал для инноваций, экономического роста и решения глобальных проблем, таких как загрязнение воды. |                                                                                                                                                |\n",
            "+------------------------+----------------------------------------------+-------------------------------------------------------------------------------------------------------------------------------------------------------------------------------------------------------------------------------------------------------------------------------------------------------------------------------------------------------------------------------------------------------------------------------------------------------------------------------------------------------------------------------------------------------------------------------------------------------------------------------------------------------------------------------------------------------------------------------------------------------------------------------------------------------------------------------------------+-------------------------------------------------------------------------------------------------------------------------------------------------------------------------------------------------------------------------------------------------------------------------------------------------------------------------------------------------------------------------------------------------------------------------------------------------------------------------------------------------------------------------------------------------------------------------------------------------------------------------------------------------------------------------------------------------------------------------------------------------------------------------------------------------------------------------------------------------------------------------------------------------------------------------------------------------------------------------------------------------------------------------------------------------------------------------------------------------------------------------------------------------------------------------------------------------------------------------------+------------------------------------------------------------------------------------------------------------------------------------------------+\n"
          ]
        }
      ],
      "source": [
        "try:\n",
        "  synergy_df = synergy_df.rename(columns={'best_synergy_citation_url': 'Ссылка на кейс', 'best_synergy_citation_ru': 'Краткое описание кейса'})[['Наименование', 'Сайт', 'Описание компании', 'Краткое описание кейса', 'Ссылка на кейс']]\n",
        "  synergy_df = synergy_df.groupby('Сайт').agg({'Наименование': 'first', 'Описание компании': 'first', 'Краткое описание кейса': lambda x: '\\n\\n'.join(x.unique()),\\\n",
        "    'Ссылка на кейс': lambda x: ', '.join(x.unique())}).reset_index()\n",
        "\n",
        "  print('\\n', synergy_df.to_markdown(index=False, tablefmt=\"grid\"))\n",
        "except:\n",
        "  print('Комплиментарность не найдена')"
      ]
    },
    {
      "cell_type": "markdown",
      "metadata": {
        "id": "4xyl3KroA-5g"
      },
      "source": [
        "##### Save to xlsx:"
      ]
    },
    {
      "cell_type": "code",
      "execution_count": 18,
      "metadata": {
        "id": "8sFMxuXfBA2_",
        "colab": {
          "base_uri": "https://localhost:8080/",
          "height": 17
        },
        "outputId": "6652bb8c-92fd-4d29-cf4d-fd243172e487"
      },
      "outputs": [
        {
          "output_type": "display_data",
          "data": {
            "text/plain": [
              "<IPython.core.display.Javascript object>"
            ],
            "application/javascript": [
              "\n",
              "    async function download(id, filename, size) {\n",
              "      if (!google.colab.kernel.accessAllowed) {\n",
              "        return;\n",
              "      }\n",
              "      const div = document.createElement('div');\n",
              "      const label = document.createElement('label');\n",
              "      label.textContent = `Downloading \"${filename}\": `;\n",
              "      div.appendChild(label);\n",
              "      const progress = document.createElement('progress');\n",
              "      progress.max = size;\n",
              "      div.appendChild(progress);\n",
              "      document.body.appendChild(div);\n",
              "\n",
              "      const buffers = [];\n",
              "      let downloaded = 0;\n",
              "\n",
              "      const channel = await google.colab.kernel.comms.open(id);\n",
              "      // Send a message to notify the kernel that we're ready.\n",
              "      channel.send({})\n",
              "\n",
              "      for await (const message of channel.messages) {\n",
              "        // Send a message to notify the kernel that we're ready.\n",
              "        channel.send({})\n",
              "        if (message.buffers) {\n",
              "          for (const buffer of message.buffers) {\n",
              "            buffers.push(buffer);\n",
              "            downloaded += buffer.byteLength;\n",
              "            progress.value = downloaded;\n",
              "          }\n",
              "        }\n",
              "      }\n",
              "      const blob = new Blob(buffers, {type: 'application/binary'});\n",
              "      const a = document.createElement('a');\n",
              "      a.href = window.URL.createObjectURL(blob);\n",
              "      a.download = filename;\n",
              "      div.appendChild(a);\n",
              "      a.click();\n",
              "      div.remove();\n",
              "    }\n",
              "  "
            ]
          },
          "metadata": {}
        },
        {
          "output_type": "display_data",
          "data": {
            "text/plain": [
              "<IPython.core.display.Javascript object>"
            ],
            "application/javascript": [
              "download(\"download_4ccdea1c-c60b-4b5f-9dae-0b9d5cb68f8e\", \"\\u041c\\u043e\\u043b\\u0435\\u043a\\u0443\\u043b\\u0430 - \\u0410\\u043a\\u0442\\u0438\\u0432\\u044b.xlsx\", 10820)"
            ]
          },
          "metadata": {}
        }
      ],
      "source": [
        "synergy_df.to_excel('Молекула - Активы.xlsx', index=False)\n",
        "files.download('Молекула - Активы.xlsx')"
      ]
    }
  ],
  "metadata": {
    "accelerator": "GPU",
    "colab": {
      "collapsed_sections": [
        "7lQznt6Jfwgu",
        "rzjdNRSaperX",
        "4-MKVVSw-saH",
        "pmtbwxjuRjoT",
        "SB20mi74Q-iN",
        "oNH2i61NMu2s",
        "J60lxRfwKEyp",
        "BorJOnC6qz3q"
      ],
      "gpuType": "A100",
      "machine_shape": "hm",
      "provenance": [],
      "include_colab_link": true
    },
    "kernelspec": {
      "display_name": "Python 3",
      "name": "python3"
    },
    "language_info": {
      "codemirror_mode": {
        "name": "ipython",
        "version": 3
      },
      "file_extension": ".py",
      "mimetype": "text/x-python",
      "name": "python",
      "nbconvert_exporter": "python",
      "pygments_lexer": "ipython3",
      "version": "3.10.8"
    },
    "widgets": {
      "application/vnd.jupyter.widget-state+json": {
        "2a962f9dd5b841cf9400b676273c8e77": {
          "model_module": "@jupyter-widgets/controls",
          "model_name": "HBoxModel",
          "model_module_version": "1.5.0",
          "state": {
            "_dom_classes": [],
            "_model_module": "@jupyter-widgets/controls",
            "_model_module_version": "1.5.0",
            "_model_name": "HBoxModel",
            "_view_count": null,
            "_view_module": "@jupyter-widgets/controls",
            "_view_module_version": "1.5.0",
            "_view_name": "HBoxView",
            "box_style": "",
            "children": [
              "IPY_MODEL_e8cee9eb6f734954b76c6e869d725d55",
              "IPY_MODEL_6ffb7479510c430c99c13c5784298be3",
              "IPY_MODEL_d87f956c14114436b64e5b079193571c"
            ],
            "layout": "IPY_MODEL_0d6d13fe006b455aad6fd15152200c77"
          }
        },
        "e8cee9eb6f734954b76c6e869d725d55": {
          "model_module": "@jupyter-widgets/controls",
          "model_name": "HTMLModel",
          "model_module_version": "1.5.0",
          "state": {
            "_dom_classes": [],
            "_model_module": "@jupyter-widgets/controls",
            "_model_module_version": "1.5.0",
            "_model_name": "HTMLModel",
            "_view_count": null,
            "_view_module": "@jupyter-widgets/controls",
            "_view_module_version": "1.5.0",
            "_view_name": "HTMLView",
            "description": "",
            "description_tooltip": null,
            "layout": "IPY_MODEL_8d0a7801f5f342368bcf5b4db5a7ed90",
            "placeholder": "​",
            "style": "IPY_MODEL_c000d225f0414ea9859fb76d8e11434a",
            "value": "Processing citations synergy: 100%"
          }
        },
        "6ffb7479510c430c99c13c5784298be3": {
          "model_module": "@jupyter-widgets/controls",
          "model_name": "FloatProgressModel",
          "model_module_version": "1.5.0",
          "state": {
            "_dom_classes": [],
            "_model_module": "@jupyter-widgets/controls",
            "_model_module_version": "1.5.0",
            "_model_name": "FloatProgressModel",
            "_view_count": null,
            "_view_module": "@jupyter-widgets/controls",
            "_view_module_version": "1.5.0",
            "_view_name": "ProgressView",
            "bar_style": "success",
            "description": "",
            "description_tooltip": null,
            "layout": "IPY_MODEL_189965b1aeb14ab0afbe86e9235b4161",
            "max": 10,
            "min": 0,
            "orientation": "horizontal",
            "style": "IPY_MODEL_d98e3eff2cde4e7084291dd0ff46baa3",
            "value": 10
          }
        },
        "d87f956c14114436b64e5b079193571c": {
          "model_module": "@jupyter-widgets/controls",
          "model_name": "HTMLModel",
          "model_module_version": "1.5.0",
          "state": {
            "_dom_classes": [],
            "_model_module": "@jupyter-widgets/controls",
            "_model_module_version": "1.5.0",
            "_model_name": "HTMLModel",
            "_view_count": null,
            "_view_module": "@jupyter-widgets/controls",
            "_view_module_version": "1.5.0",
            "_view_name": "HTMLView",
            "description": "",
            "description_tooltip": null,
            "layout": "IPY_MODEL_354030427ecc47e89dd87658873609ec",
            "placeholder": "​",
            "style": "IPY_MODEL_6bd132062af1414198bcd77b027a3b7a",
            "value": " 10/10 [06:04&lt;00:00, 37.87s/it]"
          }
        },
        "0d6d13fe006b455aad6fd15152200c77": {
          "model_module": "@jupyter-widgets/base",
          "model_name": "LayoutModel",
          "model_module_version": "1.2.0",
          "state": {
            "_model_module": "@jupyter-widgets/base",
            "_model_module_version": "1.2.0",
            "_model_name": "LayoutModel",
            "_view_count": null,
            "_view_module": "@jupyter-widgets/base",
            "_view_module_version": "1.2.0",
            "_view_name": "LayoutView",
            "align_content": null,
            "align_items": null,
            "align_self": null,
            "border": null,
            "bottom": null,
            "display": null,
            "flex": null,
            "flex_flow": null,
            "grid_area": null,
            "grid_auto_columns": null,
            "grid_auto_flow": null,
            "grid_auto_rows": null,
            "grid_column": null,
            "grid_gap": null,
            "grid_row": null,
            "grid_template_areas": null,
            "grid_template_columns": null,
            "grid_template_rows": null,
            "height": null,
            "justify_content": null,
            "justify_items": null,
            "left": null,
            "margin": null,
            "max_height": null,
            "max_width": null,
            "min_height": null,
            "min_width": null,
            "object_fit": null,
            "object_position": null,
            "order": null,
            "overflow": null,
            "overflow_x": null,
            "overflow_y": null,
            "padding": null,
            "right": null,
            "top": null,
            "visibility": null,
            "width": null
          }
        },
        "8d0a7801f5f342368bcf5b4db5a7ed90": {
          "model_module": "@jupyter-widgets/base",
          "model_name": "LayoutModel",
          "model_module_version": "1.2.0",
          "state": {
            "_model_module": "@jupyter-widgets/base",
            "_model_module_version": "1.2.0",
            "_model_name": "LayoutModel",
            "_view_count": null,
            "_view_module": "@jupyter-widgets/base",
            "_view_module_version": "1.2.0",
            "_view_name": "LayoutView",
            "align_content": null,
            "align_items": null,
            "align_self": null,
            "border": null,
            "bottom": null,
            "display": null,
            "flex": null,
            "flex_flow": null,
            "grid_area": null,
            "grid_auto_columns": null,
            "grid_auto_flow": null,
            "grid_auto_rows": null,
            "grid_column": null,
            "grid_gap": null,
            "grid_row": null,
            "grid_template_areas": null,
            "grid_template_columns": null,
            "grid_template_rows": null,
            "height": null,
            "justify_content": null,
            "justify_items": null,
            "left": null,
            "margin": null,
            "max_height": null,
            "max_width": null,
            "min_height": null,
            "min_width": null,
            "object_fit": null,
            "object_position": null,
            "order": null,
            "overflow": null,
            "overflow_x": null,
            "overflow_y": null,
            "padding": null,
            "right": null,
            "top": null,
            "visibility": null,
            "width": null
          }
        },
        "c000d225f0414ea9859fb76d8e11434a": {
          "model_module": "@jupyter-widgets/controls",
          "model_name": "DescriptionStyleModel",
          "model_module_version": "1.5.0",
          "state": {
            "_model_module": "@jupyter-widgets/controls",
            "_model_module_version": "1.5.0",
            "_model_name": "DescriptionStyleModel",
            "_view_count": null,
            "_view_module": "@jupyter-widgets/base",
            "_view_module_version": "1.2.0",
            "_view_name": "StyleView",
            "description_width": ""
          }
        },
        "189965b1aeb14ab0afbe86e9235b4161": {
          "model_module": "@jupyter-widgets/base",
          "model_name": "LayoutModel",
          "model_module_version": "1.2.0",
          "state": {
            "_model_module": "@jupyter-widgets/base",
            "_model_module_version": "1.2.0",
            "_model_name": "LayoutModel",
            "_view_count": null,
            "_view_module": "@jupyter-widgets/base",
            "_view_module_version": "1.2.0",
            "_view_name": "LayoutView",
            "align_content": null,
            "align_items": null,
            "align_self": null,
            "border": null,
            "bottom": null,
            "display": null,
            "flex": null,
            "flex_flow": null,
            "grid_area": null,
            "grid_auto_columns": null,
            "grid_auto_flow": null,
            "grid_auto_rows": null,
            "grid_column": null,
            "grid_gap": null,
            "grid_row": null,
            "grid_template_areas": null,
            "grid_template_columns": null,
            "grid_template_rows": null,
            "height": null,
            "justify_content": null,
            "justify_items": null,
            "left": null,
            "margin": null,
            "max_height": null,
            "max_width": null,
            "min_height": null,
            "min_width": null,
            "object_fit": null,
            "object_position": null,
            "order": null,
            "overflow": null,
            "overflow_x": null,
            "overflow_y": null,
            "padding": null,
            "right": null,
            "top": null,
            "visibility": null,
            "width": null
          }
        },
        "d98e3eff2cde4e7084291dd0ff46baa3": {
          "model_module": "@jupyter-widgets/controls",
          "model_name": "ProgressStyleModel",
          "model_module_version": "1.5.0",
          "state": {
            "_model_module": "@jupyter-widgets/controls",
            "_model_module_version": "1.5.0",
            "_model_name": "ProgressStyleModel",
            "_view_count": null,
            "_view_module": "@jupyter-widgets/base",
            "_view_module_version": "1.2.0",
            "_view_name": "StyleView",
            "bar_color": null,
            "description_width": ""
          }
        },
        "354030427ecc47e89dd87658873609ec": {
          "model_module": "@jupyter-widgets/base",
          "model_name": "LayoutModel",
          "model_module_version": "1.2.0",
          "state": {
            "_model_module": "@jupyter-widgets/base",
            "_model_module_version": "1.2.0",
            "_model_name": "LayoutModel",
            "_view_count": null,
            "_view_module": "@jupyter-widgets/base",
            "_view_module_version": "1.2.0",
            "_view_name": "LayoutView",
            "align_content": null,
            "align_items": null,
            "align_self": null,
            "border": null,
            "bottom": null,
            "display": null,
            "flex": null,
            "flex_flow": null,
            "grid_area": null,
            "grid_auto_columns": null,
            "grid_auto_flow": null,
            "grid_auto_rows": null,
            "grid_column": null,
            "grid_gap": null,
            "grid_row": null,
            "grid_template_areas": null,
            "grid_template_columns": null,
            "grid_template_rows": null,
            "height": null,
            "justify_content": null,
            "justify_items": null,
            "left": null,
            "margin": null,
            "max_height": null,
            "max_width": null,
            "min_height": null,
            "min_width": null,
            "object_fit": null,
            "object_position": null,
            "order": null,
            "overflow": null,
            "overflow_x": null,
            "overflow_y": null,
            "padding": null,
            "right": null,
            "top": null,
            "visibility": null,
            "width": null
          }
        },
        "6bd132062af1414198bcd77b027a3b7a": {
          "model_module": "@jupyter-widgets/controls",
          "model_name": "DescriptionStyleModel",
          "model_module_version": "1.5.0",
          "state": {
            "_model_module": "@jupyter-widgets/controls",
            "_model_module_version": "1.5.0",
            "_model_name": "DescriptionStyleModel",
            "_view_count": null,
            "_view_module": "@jupyter-widgets/base",
            "_view_module_version": "1.2.0",
            "_view_name": "StyleView",
            "description_width": ""
          }
        },
        "ed72373f720b48b2a58216d2c0ac42d4": {
          "model_module": "@jupyter-widgets/controls",
          "model_name": "HBoxModel",
          "model_module_version": "1.5.0",
          "state": {
            "_dom_classes": [],
            "_model_module": "@jupyter-widgets/controls",
            "_model_module_version": "1.5.0",
            "_model_name": "HBoxModel",
            "_view_count": null,
            "_view_module": "@jupyter-widgets/controls",
            "_view_module_version": "1.5.0",
            "_view_name": "HBoxView",
            "box_style": "",
            "children": [
              "IPY_MODEL_7c12d5dd4847418d9bc9c2593a9daa24",
              "IPY_MODEL_0f2d79277dab4a78a2db2ce31bd41dbc",
              "IPY_MODEL_7f7aeb4b0eb64dcda43d618024b9e653"
            ],
            "layout": "IPY_MODEL_ab707343a806414ca6a7657b0bbe63f7"
          }
        },
        "7c12d5dd4847418d9bc9c2593a9daa24": {
          "model_module": "@jupyter-widgets/controls",
          "model_name": "HTMLModel",
          "model_module_version": "1.5.0",
          "state": {
            "_dom_classes": [],
            "_model_module": "@jupyter-widgets/controls",
            "_model_module_version": "1.5.0",
            "_model_name": "HTMLModel",
            "_view_count": null,
            "_view_module": "@jupyter-widgets/controls",
            "_view_module_version": "1.5.0",
            "_view_name": "HTMLView",
            "description": "",
            "description_tooltip": null,
            "layout": "IPY_MODEL_5c794688b0de4ee0b96ffc7ecbb4f6d7",
            "placeholder": "​",
            "style": "IPY_MODEL_a1fafa5a92514d94bed764ca54ef2709",
            "value": "Processing citations synergy: 100%"
          }
        },
        "0f2d79277dab4a78a2db2ce31bd41dbc": {
          "model_module": "@jupyter-widgets/controls",
          "model_name": "FloatProgressModel",
          "model_module_version": "1.5.0",
          "state": {
            "_dom_classes": [],
            "_model_module": "@jupyter-widgets/controls",
            "_model_module_version": "1.5.0",
            "_model_name": "FloatProgressModel",
            "_view_count": null,
            "_view_module": "@jupyter-widgets/controls",
            "_view_module_version": "1.5.0",
            "_view_name": "ProgressView",
            "bar_style": "success",
            "description": "",
            "description_tooltip": null,
            "layout": "IPY_MODEL_ccfe4ca2e5dd458d808868ff3fa4cf6d",
            "max": 8,
            "min": 0,
            "orientation": "horizontal",
            "style": "IPY_MODEL_7d950c3b04f84e118d96bcd9806a2c0d",
            "value": 8
          }
        },
        "7f7aeb4b0eb64dcda43d618024b9e653": {
          "model_module": "@jupyter-widgets/controls",
          "model_name": "HTMLModel",
          "model_module_version": "1.5.0",
          "state": {
            "_dom_classes": [],
            "_model_module": "@jupyter-widgets/controls",
            "_model_module_version": "1.5.0",
            "_model_name": "HTMLModel",
            "_view_count": null,
            "_view_module": "@jupyter-widgets/controls",
            "_view_module_version": "1.5.0",
            "_view_name": "HTMLView",
            "description": "",
            "description_tooltip": null,
            "layout": "IPY_MODEL_da75db9cced94dc8b8d64eaa486acff8",
            "placeholder": "​",
            "style": "IPY_MODEL_69984e45e0c347558029161516eeab1b",
            "value": " 8/8 [05:38&lt;00:00, 41.62s/it]"
          }
        },
        "ab707343a806414ca6a7657b0bbe63f7": {
          "model_module": "@jupyter-widgets/base",
          "model_name": "LayoutModel",
          "model_module_version": "1.2.0",
          "state": {
            "_model_module": "@jupyter-widgets/base",
            "_model_module_version": "1.2.0",
            "_model_name": "LayoutModel",
            "_view_count": null,
            "_view_module": "@jupyter-widgets/base",
            "_view_module_version": "1.2.0",
            "_view_name": "LayoutView",
            "align_content": null,
            "align_items": null,
            "align_self": null,
            "border": null,
            "bottom": null,
            "display": null,
            "flex": null,
            "flex_flow": null,
            "grid_area": null,
            "grid_auto_columns": null,
            "grid_auto_flow": null,
            "grid_auto_rows": null,
            "grid_column": null,
            "grid_gap": null,
            "grid_row": null,
            "grid_template_areas": null,
            "grid_template_columns": null,
            "grid_template_rows": null,
            "height": null,
            "justify_content": null,
            "justify_items": null,
            "left": null,
            "margin": null,
            "max_height": null,
            "max_width": null,
            "min_height": null,
            "min_width": null,
            "object_fit": null,
            "object_position": null,
            "order": null,
            "overflow": null,
            "overflow_x": null,
            "overflow_y": null,
            "padding": null,
            "right": null,
            "top": null,
            "visibility": null,
            "width": null
          }
        },
        "5c794688b0de4ee0b96ffc7ecbb4f6d7": {
          "model_module": "@jupyter-widgets/base",
          "model_name": "LayoutModel",
          "model_module_version": "1.2.0",
          "state": {
            "_model_module": "@jupyter-widgets/base",
            "_model_module_version": "1.2.0",
            "_model_name": "LayoutModel",
            "_view_count": null,
            "_view_module": "@jupyter-widgets/base",
            "_view_module_version": "1.2.0",
            "_view_name": "LayoutView",
            "align_content": null,
            "align_items": null,
            "align_self": null,
            "border": null,
            "bottom": null,
            "display": null,
            "flex": null,
            "flex_flow": null,
            "grid_area": null,
            "grid_auto_columns": null,
            "grid_auto_flow": null,
            "grid_auto_rows": null,
            "grid_column": null,
            "grid_gap": null,
            "grid_row": null,
            "grid_template_areas": null,
            "grid_template_columns": null,
            "grid_template_rows": null,
            "height": null,
            "justify_content": null,
            "justify_items": null,
            "left": null,
            "margin": null,
            "max_height": null,
            "max_width": null,
            "min_height": null,
            "min_width": null,
            "object_fit": null,
            "object_position": null,
            "order": null,
            "overflow": null,
            "overflow_x": null,
            "overflow_y": null,
            "padding": null,
            "right": null,
            "top": null,
            "visibility": null,
            "width": null
          }
        },
        "a1fafa5a92514d94bed764ca54ef2709": {
          "model_module": "@jupyter-widgets/controls",
          "model_name": "DescriptionStyleModel",
          "model_module_version": "1.5.0",
          "state": {
            "_model_module": "@jupyter-widgets/controls",
            "_model_module_version": "1.5.0",
            "_model_name": "DescriptionStyleModel",
            "_view_count": null,
            "_view_module": "@jupyter-widgets/base",
            "_view_module_version": "1.2.0",
            "_view_name": "StyleView",
            "description_width": ""
          }
        },
        "ccfe4ca2e5dd458d808868ff3fa4cf6d": {
          "model_module": "@jupyter-widgets/base",
          "model_name": "LayoutModel",
          "model_module_version": "1.2.0",
          "state": {
            "_model_module": "@jupyter-widgets/base",
            "_model_module_version": "1.2.0",
            "_model_name": "LayoutModel",
            "_view_count": null,
            "_view_module": "@jupyter-widgets/base",
            "_view_module_version": "1.2.0",
            "_view_name": "LayoutView",
            "align_content": null,
            "align_items": null,
            "align_self": null,
            "border": null,
            "bottom": null,
            "display": null,
            "flex": null,
            "flex_flow": null,
            "grid_area": null,
            "grid_auto_columns": null,
            "grid_auto_flow": null,
            "grid_auto_rows": null,
            "grid_column": null,
            "grid_gap": null,
            "grid_row": null,
            "grid_template_areas": null,
            "grid_template_columns": null,
            "grid_template_rows": null,
            "height": null,
            "justify_content": null,
            "justify_items": null,
            "left": null,
            "margin": null,
            "max_height": null,
            "max_width": null,
            "min_height": null,
            "min_width": null,
            "object_fit": null,
            "object_position": null,
            "order": null,
            "overflow": null,
            "overflow_x": null,
            "overflow_y": null,
            "padding": null,
            "right": null,
            "top": null,
            "visibility": null,
            "width": null
          }
        },
        "7d950c3b04f84e118d96bcd9806a2c0d": {
          "model_module": "@jupyter-widgets/controls",
          "model_name": "ProgressStyleModel",
          "model_module_version": "1.5.0",
          "state": {
            "_model_module": "@jupyter-widgets/controls",
            "_model_module_version": "1.5.0",
            "_model_name": "ProgressStyleModel",
            "_view_count": null,
            "_view_module": "@jupyter-widgets/base",
            "_view_module_version": "1.2.0",
            "_view_name": "StyleView",
            "bar_color": null,
            "description_width": ""
          }
        },
        "da75db9cced94dc8b8d64eaa486acff8": {
          "model_module": "@jupyter-widgets/base",
          "model_name": "LayoutModel",
          "model_module_version": "1.2.0",
          "state": {
            "_model_module": "@jupyter-widgets/base",
            "_model_module_version": "1.2.0",
            "_model_name": "LayoutModel",
            "_view_count": null,
            "_view_module": "@jupyter-widgets/base",
            "_view_module_version": "1.2.0",
            "_view_name": "LayoutView",
            "align_content": null,
            "align_items": null,
            "align_self": null,
            "border": null,
            "bottom": null,
            "display": null,
            "flex": null,
            "flex_flow": null,
            "grid_area": null,
            "grid_auto_columns": null,
            "grid_auto_flow": null,
            "grid_auto_rows": null,
            "grid_column": null,
            "grid_gap": null,
            "grid_row": null,
            "grid_template_areas": null,
            "grid_template_columns": null,
            "grid_template_rows": null,
            "height": null,
            "justify_content": null,
            "justify_items": null,
            "left": null,
            "margin": null,
            "max_height": null,
            "max_width": null,
            "min_height": null,
            "min_width": null,
            "object_fit": null,
            "object_position": null,
            "order": null,
            "overflow": null,
            "overflow_x": null,
            "overflow_y": null,
            "padding": null,
            "right": null,
            "top": null,
            "visibility": null,
            "width": null
          }
        },
        "69984e45e0c347558029161516eeab1b": {
          "model_module": "@jupyter-widgets/controls",
          "model_name": "DescriptionStyleModel",
          "model_module_version": "1.5.0",
          "state": {
            "_model_module": "@jupyter-widgets/controls",
            "_model_module_version": "1.5.0",
            "_model_name": "DescriptionStyleModel",
            "_view_count": null,
            "_view_module": "@jupyter-widgets/base",
            "_view_module_version": "1.2.0",
            "_view_name": "StyleView",
            "description_width": ""
          }
        },
        "30d61061d1c24a6ba4cf215e2890f959": {
          "model_module": "@jupyter-widgets/controls",
          "model_name": "HBoxModel",
          "model_module_version": "1.5.0",
          "state": {
            "_dom_classes": [],
            "_model_module": "@jupyter-widgets/controls",
            "_model_module_version": "1.5.0",
            "_model_name": "HBoxModel",
            "_view_count": null,
            "_view_module": "@jupyter-widgets/controls",
            "_view_module_version": "1.5.0",
            "_view_name": "HBoxView",
            "box_style": "",
            "children": [
              "IPY_MODEL_cbdb2df18f99428982f85f4212b21e83",
              "IPY_MODEL_2276fa8141d74a79b2893edbec8f9030",
              "IPY_MODEL_0335d65de47a4aa3836510b50d25a1e4"
            ],
            "layout": "IPY_MODEL_5804135dab5e4660b7ed59e126b8cc10"
          }
        },
        "cbdb2df18f99428982f85f4212b21e83": {
          "model_module": "@jupyter-widgets/controls",
          "model_name": "HTMLModel",
          "model_module_version": "1.5.0",
          "state": {
            "_dom_classes": [],
            "_model_module": "@jupyter-widgets/controls",
            "_model_module_version": "1.5.0",
            "_model_name": "HTMLModel",
            "_view_count": null,
            "_view_module": "@jupyter-widgets/controls",
            "_view_module_version": "1.5.0",
            "_view_name": "HTMLView",
            "description": "",
            "description_tooltip": null,
            "layout": "IPY_MODEL_d9787bfbbac64c429d7f63b56d477073",
            "placeholder": "​",
            "style": "IPY_MODEL_73c13cb24d894368b7b1b72de1e41688",
            "value": "Processing citations synergy: 100%"
          }
        },
        "2276fa8141d74a79b2893edbec8f9030": {
          "model_module": "@jupyter-widgets/controls",
          "model_name": "FloatProgressModel",
          "model_module_version": "1.5.0",
          "state": {
            "_dom_classes": [],
            "_model_module": "@jupyter-widgets/controls",
            "_model_module_version": "1.5.0",
            "_model_name": "FloatProgressModel",
            "_view_count": null,
            "_view_module": "@jupyter-widgets/controls",
            "_view_module_version": "1.5.0",
            "_view_name": "ProgressView",
            "bar_style": "success",
            "description": "",
            "description_tooltip": null,
            "layout": "IPY_MODEL_32b67d90539048988671280275bebf9b",
            "max": 10,
            "min": 0,
            "orientation": "horizontal",
            "style": "IPY_MODEL_b5007f4c273d4cb4b5d6f9f89aaa208a",
            "value": 10
          }
        },
        "0335d65de47a4aa3836510b50d25a1e4": {
          "model_module": "@jupyter-widgets/controls",
          "model_name": "HTMLModel",
          "model_module_version": "1.5.0",
          "state": {
            "_dom_classes": [],
            "_model_module": "@jupyter-widgets/controls",
            "_model_module_version": "1.5.0",
            "_model_name": "HTMLModel",
            "_view_count": null,
            "_view_module": "@jupyter-widgets/controls",
            "_view_module_version": "1.5.0",
            "_view_name": "HTMLView",
            "description": "",
            "description_tooltip": null,
            "layout": "IPY_MODEL_f01ee866443342d587053f873ab71f3c",
            "placeholder": "​",
            "style": "IPY_MODEL_7f8c55d8d46d4170a8da4f3aef1c788b",
            "value": " 10/10 [06:14&lt;00:00, 36.60s/it]"
          }
        },
        "5804135dab5e4660b7ed59e126b8cc10": {
          "model_module": "@jupyter-widgets/base",
          "model_name": "LayoutModel",
          "model_module_version": "1.2.0",
          "state": {
            "_model_module": "@jupyter-widgets/base",
            "_model_module_version": "1.2.0",
            "_model_name": "LayoutModel",
            "_view_count": null,
            "_view_module": "@jupyter-widgets/base",
            "_view_module_version": "1.2.0",
            "_view_name": "LayoutView",
            "align_content": null,
            "align_items": null,
            "align_self": null,
            "border": null,
            "bottom": null,
            "display": null,
            "flex": null,
            "flex_flow": null,
            "grid_area": null,
            "grid_auto_columns": null,
            "grid_auto_flow": null,
            "grid_auto_rows": null,
            "grid_column": null,
            "grid_gap": null,
            "grid_row": null,
            "grid_template_areas": null,
            "grid_template_columns": null,
            "grid_template_rows": null,
            "height": null,
            "justify_content": null,
            "justify_items": null,
            "left": null,
            "margin": null,
            "max_height": null,
            "max_width": null,
            "min_height": null,
            "min_width": null,
            "object_fit": null,
            "object_position": null,
            "order": null,
            "overflow": null,
            "overflow_x": null,
            "overflow_y": null,
            "padding": null,
            "right": null,
            "top": null,
            "visibility": null,
            "width": null
          }
        },
        "d9787bfbbac64c429d7f63b56d477073": {
          "model_module": "@jupyter-widgets/base",
          "model_name": "LayoutModel",
          "model_module_version": "1.2.0",
          "state": {
            "_model_module": "@jupyter-widgets/base",
            "_model_module_version": "1.2.0",
            "_model_name": "LayoutModel",
            "_view_count": null,
            "_view_module": "@jupyter-widgets/base",
            "_view_module_version": "1.2.0",
            "_view_name": "LayoutView",
            "align_content": null,
            "align_items": null,
            "align_self": null,
            "border": null,
            "bottom": null,
            "display": null,
            "flex": null,
            "flex_flow": null,
            "grid_area": null,
            "grid_auto_columns": null,
            "grid_auto_flow": null,
            "grid_auto_rows": null,
            "grid_column": null,
            "grid_gap": null,
            "grid_row": null,
            "grid_template_areas": null,
            "grid_template_columns": null,
            "grid_template_rows": null,
            "height": null,
            "justify_content": null,
            "justify_items": null,
            "left": null,
            "margin": null,
            "max_height": null,
            "max_width": null,
            "min_height": null,
            "min_width": null,
            "object_fit": null,
            "object_position": null,
            "order": null,
            "overflow": null,
            "overflow_x": null,
            "overflow_y": null,
            "padding": null,
            "right": null,
            "top": null,
            "visibility": null,
            "width": null
          }
        },
        "73c13cb24d894368b7b1b72de1e41688": {
          "model_module": "@jupyter-widgets/controls",
          "model_name": "DescriptionStyleModel",
          "model_module_version": "1.5.0",
          "state": {
            "_model_module": "@jupyter-widgets/controls",
            "_model_module_version": "1.5.0",
            "_model_name": "DescriptionStyleModel",
            "_view_count": null,
            "_view_module": "@jupyter-widgets/base",
            "_view_module_version": "1.2.0",
            "_view_name": "StyleView",
            "description_width": ""
          }
        },
        "32b67d90539048988671280275bebf9b": {
          "model_module": "@jupyter-widgets/base",
          "model_name": "LayoutModel",
          "model_module_version": "1.2.0",
          "state": {
            "_model_module": "@jupyter-widgets/base",
            "_model_module_version": "1.2.0",
            "_model_name": "LayoutModel",
            "_view_count": null,
            "_view_module": "@jupyter-widgets/base",
            "_view_module_version": "1.2.0",
            "_view_name": "LayoutView",
            "align_content": null,
            "align_items": null,
            "align_self": null,
            "border": null,
            "bottom": null,
            "display": null,
            "flex": null,
            "flex_flow": null,
            "grid_area": null,
            "grid_auto_columns": null,
            "grid_auto_flow": null,
            "grid_auto_rows": null,
            "grid_column": null,
            "grid_gap": null,
            "grid_row": null,
            "grid_template_areas": null,
            "grid_template_columns": null,
            "grid_template_rows": null,
            "height": null,
            "justify_content": null,
            "justify_items": null,
            "left": null,
            "margin": null,
            "max_height": null,
            "max_width": null,
            "min_height": null,
            "min_width": null,
            "object_fit": null,
            "object_position": null,
            "order": null,
            "overflow": null,
            "overflow_x": null,
            "overflow_y": null,
            "padding": null,
            "right": null,
            "top": null,
            "visibility": null,
            "width": null
          }
        },
        "b5007f4c273d4cb4b5d6f9f89aaa208a": {
          "model_module": "@jupyter-widgets/controls",
          "model_name": "ProgressStyleModel",
          "model_module_version": "1.5.0",
          "state": {
            "_model_module": "@jupyter-widgets/controls",
            "_model_module_version": "1.5.0",
            "_model_name": "ProgressStyleModel",
            "_view_count": null,
            "_view_module": "@jupyter-widgets/base",
            "_view_module_version": "1.2.0",
            "_view_name": "StyleView",
            "bar_color": null,
            "description_width": ""
          }
        },
        "f01ee866443342d587053f873ab71f3c": {
          "model_module": "@jupyter-widgets/base",
          "model_name": "LayoutModel",
          "model_module_version": "1.2.0",
          "state": {
            "_model_module": "@jupyter-widgets/base",
            "_model_module_version": "1.2.0",
            "_model_name": "LayoutModel",
            "_view_count": null,
            "_view_module": "@jupyter-widgets/base",
            "_view_module_version": "1.2.0",
            "_view_name": "LayoutView",
            "align_content": null,
            "align_items": null,
            "align_self": null,
            "border": null,
            "bottom": null,
            "display": null,
            "flex": null,
            "flex_flow": null,
            "grid_area": null,
            "grid_auto_columns": null,
            "grid_auto_flow": null,
            "grid_auto_rows": null,
            "grid_column": null,
            "grid_gap": null,
            "grid_row": null,
            "grid_template_areas": null,
            "grid_template_columns": null,
            "grid_template_rows": null,
            "height": null,
            "justify_content": null,
            "justify_items": null,
            "left": null,
            "margin": null,
            "max_height": null,
            "max_width": null,
            "min_height": null,
            "min_width": null,
            "object_fit": null,
            "object_position": null,
            "order": null,
            "overflow": null,
            "overflow_x": null,
            "overflow_y": null,
            "padding": null,
            "right": null,
            "top": null,
            "visibility": null,
            "width": null
          }
        },
        "7f8c55d8d46d4170a8da4f3aef1c788b": {
          "model_module": "@jupyter-widgets/controls",
          "model_name": "DescriptionStyleModel",
          "model_module_version": "1.5.0",
          "state": {
            "_model_module": "@jupyter-widgets/controls",
            "_model_module_version": "1.5.0",
            "_model_name": "DescriptionStyleModel",
            "_view_count": null,
            "_view_module": "@jupyter-widgets/base",
            "_view_module_version": "1.2.0",
            "_view_name": "StyleView",
            "description_width": ""
          }
        },
        "ea8d37945ab044a99481adcfac465118": {
          "model_module": "@jupyter-widgets/controls",
          "model_name": "HBoxModel",
          "model_module_version": "1.5.0",
          "state": {
            "_dom_classes": [],
            "_model_module": "@jupyter-widgets/controls",
            "_model_module_version": "1.5.0",
            "_model_name": "HBoxModel",
            "_view_count": null,
            "_view_module": "@jupyter-widgets/controls",
            "_view_module_version": "1.5.0",
            "_view_name": "HBoxView",
            "box_style": "",
            "children": [
              "IPY_MODEL_0ad8104c8d6342cfa1dd9903bdd28772",
              "IPY_MODEL_5199c2839a7b424cb582a9c61b469530",
              "IPY_MODEL_1fa2825354004a90a54df5b888480649"
            ],
            "layout": "IPY_MODEL_86d7dd9129b94099938265c72d4b1def"
          }
        },
        "0ad8104c8d6342cfa1dd9903bdd28772": {
          "model_module": "@jupyter-widgets/controls",
          "model_name": "HTMLModel",
          "model_module_version": "1.5.0",
          "state": {
            "_dom_classes": [],
            "_model_module": "@jupyter-widgets/controls",
            "_model_module_version": "1.5.0",
            "_model_name": "HTMLModel",
            "_view_count": null,
            "_view_module": "@jupyter-widgets/controls",
            "_view_module_version": "1.5.0",
            "_view_name": "HTMLView",
            "description": "",
            "description_tooltip": null,
            "layout": "IPY_MODEL_701384edf25c41f0a5d885f16a22bd13",
            "placeholder": "​",
            "style": "IPY_MODEL_260d857d261740f3b10c377c1e5b1353",
            "value": "Processing citations synergy: 100%"
          }
        },
        "5199c2839a7b424cb582a9c61b469530": {
          "model_module": "@jupyter-widgets/controls",
          "model_name": "FloatProgressModel",
          "model_module_version": "1.5.0",
          "state": {
            "_dom_classes": [],
            "_model_module": "@jupyter-widgets/controls",
            "_model_module_version": "1.5.0",
            "_model_name": "FloatProgressModel",
            "_view_count": null,
            "_view_module": "@jupyter-widgets/controls",
            "_view_module_version": "1.5.0",
            "_view_name": "ProgressView",
            "bar_style": "success",
            "description": "",
            "description_tooltip": null,
            "layout": "IPY_MODEL_0184606544d548a9a31a2b73a143ec01",
            "max": 7,
            "min": 0,
            "orientation": "horizontal",
            "style": "IPY_MODEL_d60c6bba6e294cc887f0c42653c63f07",
            "value": 7
          }
        },
        "1fa2825354004a90a54df5b888480649": {
          "model_module": "@jupyter-widgets/controls",
          "model_name": "HTMLModel",
          "model_module_version": "1.5.0",
          "state": {
            "_dom_classes": [],
            "_model_module": "@jupyter-widgets/controls",
            "_model_module_version": "1.5.0",
            "_model_name": "HTMLModel",
            "_view_count": null,
            "_view_module": "@jupyter-widgets/controls",
            "_view_module_version": "1.5.0",
            "_view_name": "HTMLView",
            "description": "",
            "description_tooltip": null,
            "layout": "IPY_MODEL_fe98200fee9f4d17a8a3ac1cf47e882c",
            "placeholder": "​",
            "style": "IPY_MODEL_cec355253da64ddfbe29e1af0cb38241",
            "value": " 7/7 [05:20&lt;00:00, 49.69s/it]"
          }
        },
        "86d7dd9129b94099938265c72d4b1def": {
          "model_module": "@jupyter-widgets/base",
          "model_name": "LayoutModel",
          "model_module_version": "1.2.0",
          "state": {
            "_model_module": "@jupyter-widgets/base",
            "_model_module_version": "1.2.0",
            "_model_name": "LayoutModel",
            "_view_count": null,
            "_view_module": "@jupyter-widgets/base",
            "_view_module_version": "1.2.0",
            "_view_name": "LayoutView",
            "align_content": null,
            "align_items": null,
            "align_self": null,
            "border": null,
            "bottom": null,
            "display": null,
            "flex": null,
            "flex_flow": null,
            "grid_area": null,
            "grid_auto_columns": null,
            "grid_auto_flow": null,
            "grid_auto_rows": null,
            "grid_column": null,
            "grid_gap": null,
            "grid_row": null,
            "grid_template_areas": null,
            "grid_template_columns": null,
            "grid_template_rows": null,
            "height": null,
            "justify_content": null,
            "justify_items": null,
            "left": null,
            "margin": null,
            "max_height": null,
            "max_width": null,
            "min_height": null,
            "min_width": null,
            "object_fit": null,
            "object_position": null,
            "order": null,
            "overflow": null,
            "overflow_x": null,
            "overflow_y": null,
            "padding": null,
            "right": null,
            "top": null,
            "visibility": null,
            "width": null
          }
        },
        "701384edf25c41f0a5d885f16a22bd13": {
          "model_module": "@jupyter-widgets/base",
          "model_name": "LayoutModel",
          "model_module_version": "1.2.0",
          "state": {
            "_model_module": "@jupyter-widgets/base",
            "_model_module_version": "1.2.0",
            "_model_name": "LayoutModel",
            "_view_count": null,
            "_view_module": "@jupyter-widgets/base",
            "_view_module_version": "1.2.0",
            "_view_name": "LayoutView",
            "align_content": null,
            "align_items": null,
            "align_self": null,
            "border": null,
            "bottom": null,
            "display": null,
            "flex": null,
            "flex_flow": null,
            "grid_area": null,
            "grid_auto_columns": null,
            "grid_auto_flow": null,
            "grid_auto_rows": null,
            "grid_column": null,
            "grid_gap": null,
            "grid_row": null,
            "grid_template_areas": null,
            "grid_template_columns": null,
            "grid_template_rows": null,
            "height": null,
            "justify_content": null,
            "justify_items": null,
            "left": null,
            "margin": null,
            "max_height": null,
            "max_width": null,
            "min_height": null,
            "min_width": null,
            "object_fit": null,
            "object_position": null,
            "order": null,
            "overflow": null,
            "overflow_x": null,
            "overflow_y": null,
            "padding": null,
            "right": null,
            "top": null,
            "visibility": null,
            "width": null
          }
        },
        "260d857d261740f3b10c377c1e5b1353": {
          "model_module": "@jupyter-widgets/controls",
          "model_name": "DescriptionStyleModel",
          "model_module_version": "1.5.0",
          "state": {
            "_model_module": "@jupyter-widgets/controls",
            "_model_module_version": "1.5.0",
            "_model_name": "DescriptionStyleModel",
            "_view_count": null,
            "_view_module": "@jupyter-widgets/base",
            "_view_module_version": "1.2.0",
            "_view_name": "StyleView",
            "description_width": ""
          }
        },
        "0184606544d548a9a31a2b73a143ec01": {
          "model_module": "@jupyter-widgets/base",
          "model_name": "LayoutModel",
          "model_module_version": "1.2.0",
          "state": {
            "_model_module": "@jupyter-widgets/base",
            "_model_module_version": "1.2.0",
            "_model_name": "LayoutModel",
            "_view_count": null,
            "_view_module": "@jupyter-widgets/base",
            "_view_module_version": "1.2.0",
            "_view_name": "LayoutView",
            "align_content": null,
            "align_items": null,
            "align_self": null,
            "border": null,
            "bottom": null,
            "display": null,
            "flex": null,
            "flex_flow": null,
            "grid_area": null,
            "grid_auto_columns": null,
            "grid_auto_flow": null,
            "grid_auto_rows": null,
            "grid_column": null,
            "grid_gap": null,
            "grid_row": null,
            "grid_template_areas": null,
            "grid_template_columns": null,
            "grid_template_rows": null,
            "height": null,
            "justify_content": null,
            "justify_items": null,
            "left": null,
            "margin": null,
            "max_height": null,
            "max_width": null,
            "min_height": null,
            "min_width": null,
            "object_fit": null,
            "object_position": null,
            "order": null,
            "overflow": null,
            "overflow_x": null,
            "overflow_y": null,
            "padding": null,
            "right": null,
            "top": null,
            "visibility": null,
            "width": null
          }
        },
        "d60c6bba6e294cc887f0c42653c63f07": {
          "model_module": "@jupyter-widgets/controls",
          "model_name": "ProgressStyleModel",
          "model_module_version": "1.5.0",
          "state": {
            "_model_module": "@jupyter-widgets/controls",
            "_model_module_version": "1.5.0",
            "_model_name": "ProgressStyleModel",
            "_view_count": null,
            "_view_module": "@jupyter-widgets/base",
            "_view_module_version": "1.2.0",
            "_view_name": "StyleView",
            "bar_color": null,
            "description_width": ""
          }
        },
        "fe98200fee9f4d17a8a3ac1cf47e882c": {
          "model_module": "@jupyter-widgets/base",
          "model_name": "LayoutModel",
          "model_module_version": "1.2.0",
          "state": {
            "_model_module": "@jupyter-widgets/base",
            "_model_module_version": "1.2.0",
            "_model_name": "LayoutModel",
            "_view_count": null,
            "_view_module": "@jupyter-widgets/base",
            "_view_module_version": "1.2.0",
            "_view_name": "LayoutView",
            "align_content": null,
            "align_items": null,
            "align_self": null,
            "border": null,
            "bottom": null,
            "display": null,
            "flex": null,
            "flex_flow": null,
            "grid_area": null,
            "grid_auto_columns": null,
            "grid_auto_flow": null,
            "grid_auto_rows": null,
            "grid_column": null,
            "grid_gap": null,
            "grid_row": null,
            "grid_template_areas": null,
            "grid_template_columns": null,
            "grid_template_rows": null,
            "height": null,
            "justify_content": null,
            "justify_items": null,
            "left": null,
            "margin": null,
            "max_height": null,
            "max_width": null,
            "min_height": null,
            "min_width": null,
            "object_fit": null,
            "object_position": null,
            "order": null,
            "overflow": null,
            "overflow_x": null,
            "overflow_y": null,
            "padding": null,
            "right": null,
            "top": null,
            "visibility": null,
            "width": null
          }
        },
        "cec355253da64ddfbe29e1af0cb38241": {
          "model_module": "@jupyter-widgets/controls",
          "model_name": "DescriptionStyleModel",
          "model_module_version": "1.5.0",
          "state": {
            "_model_module": "@jupyter-widgets/controls",
            "_model_module_version": "1.5.0",
            "_model_name": "DescriptionStyleModel",
            "_view_count": null,
            "_view_module": "@jupyter-widgets/base",
            "_view_module_version": "1.2.0",
            "_view_name": "StyleView",
            "description_width": ""
          }
        },
        "985c6fa516894b8c8f9d42ca333982d5": {
          "model_module": "@jupyter-widgets/controls",
          "model_name": "HBoxModel",
          "model_module_version": "1.5.0",
          "state": {
            "_dom_classes": [],
            "_model_module": "@jupyter-widgets/controls",
            "_model_module_version": "1.5.0",
            "_model_name": "HBoxModel",
            "_view_count": null,
            "_view_module": "@jupyter-widgets/controls",
            "_view_module_version": "1.5.0",
            "_view_name": "HBoxView",
            "box_style": "",
            "children": [
              "IPY_MODEL_d649a6eb0e2f4a59af7ce51b426a8086",
              "IPY_MODEL_6786e2733e63448794c958be70658d19",
              "IPY_MODEL_bc8cc31fa365429e98dc082d1de28ebd"
            ],
            "layout": "IPY_MODEL_fbeb28df77a94f69b8f0826054b4e1c6"
          }
        },
        "d649a6eb0e2f4a59af7ce51b426a8086": {
          "model_module": "@jupyter-widgets/controls",
          "model_name": "HTMLModel",
          "model_module_version": "1.5.0",
          "state": {
            "_dom_classes": [],
            "_model_module": "@jupyter-widgets/controls",
            "_model_module_version": "1.5.0",
            "_model_name": "HTMLModel",
            "_view_count": null,
            "_view_module": "@jupyter-widgets/controls",
            "_view_module_version": "1.5.0",
            "_view_name": "HTMLView",
            "description": "",
            "description_tooltip": null,
            "layout": "IPY_MODEL_fe856ece93e64e888615ee52efaa4740",
            "placeholder": "​",
            "style": "IPY_MODEL_189033d5c8504a8ca65156bd34b5e26a",
            "value": "Processing citations synergy: 100%"
          }
        },
        "6786e2733e63448794c958be70658d19": {
          "model_module": "@jupyter-widgets/controls",
          "model_name": "FloatProgressModel",
          "model_module_version": "1.5.0",
          "state": {
            "_dom_classes": [],
            "_model_module": "@jupyter-widgets/controls",
            "_model_module_version": "1.5.0",
            "_model_name": "FloatProgressModel",
            "_view_count": null,
            "_view_module": "@jupyter-widgets/controls",
            "_view_module_version": "1.5.0",
            "_view_name": "ProgressView",
            "bar_style": "success",
            "description": "",
            "description_tooltip": null,
            "layout": "IPY_MODEL_94fbf9623c734cdcb4ca3a29ddfe045e",
            "max": 8,
            "min": 0,
            "orientation": "horizontal",
            "style": "IPY_MODEL_d802d77b63704c38be36bbf3e98a6a2e",
            "value": 8
          }
        },
        "bc8cc31fa365429e98dc082d1de28ebd": {
          "model_module": "@jupyter-widgets/controls",
          "model_name": "HTMLModel",
          "model_module_version": "1.5.0",
          "state": {
            "_dom_classes": [],
            "_model_module": "@jupyter-widgets/controls",
            "_model_module_version": "1.5.0",
            "_model_name": "HTMLModel",
            "_view_count": null,
            "_view_module": "@jupyter-widgets/controls",
            "_view_module_version": "1.5.0",
            "_view_name": "HTMLView",
            "description": "",
            "description_tooltip": null,
            "layout": "IPY_MODEL_3030dd8231634306b210f89f50b3f58b",
            "placeholder": "​",
            "style": "IPY_MODEL_455c86ae05034950a3e1e52535681de5",
            "value": " 8/8 [05:36&lt;00:00, 34.34s/it]"
          }
        },
        "fbeb28df77a94f69b8f0826054b4e1c6": {
          "model_module": "@jupyter-widgets/base",
          "model_name": "LayoutModel",
          "model_module_version": "1.2.0",
          "state": {
            "_model_module": "@jupyter-widgets/base",
            "_model_module_version": "1.2.0",
            "_model_name": "LayoutModel",
            "_view_count": null,
            "_view_module": "@jupyter-widgets/base",
            "_view_module_version": "1.2.0",
            "_view_name": "LayoutView",
            "align_content": null,
            "align_items": null,
            "align_self": null,
            "border": null,
            "bottom": null,
            "display": null,
            "flex": null,
            "flex_flow": null,
            "grid_area": null,
            "grid_auto_columns": null,
            "grid_auto_flow": null,
            "grid_auto_rows": null,
            "grid_column": null,
            "grid_gap": null,
            "grid_row": null,
            "grid_template_areas": null,
            "grid_template_columns": null,
            "grid_template_rows": null,
            "height": null,
            "justify_content": null,
            "justify_items": null,
            "left": null,
            "margin": null,
            "max_height": null,
            "max_width": null,
            "min_height": null,
            "min_width": null,
            "object_fit": null,
            "object_position": null,
            "order": null,
            "overflow": null,
            "overflow_x": null,
            "overflow_y": null,
            "padding": null,
            "right": null,
            "top": null,
            "visibility": null,
            "width": null
          }
        },
        "fe856ece93e64e888615ee52efaa4740": {
          "model_module": "@jupyter-widgets/base",
          "model_name": "LayoutModel",
          "model_module_version": "1.2.0",
          "state": {
            "_model_module": "@jupyter-widgets/base",
            "_model_module_version": "1.2.0",
            "_model_name": "LayoutModel",
            "_view_count": null,
            "_view_module": "@jupyter-widgets/base",
            "_view_module_version": "1.2.0",
            "_view_name": "LayoutView",
            "align_content": null,
            "align_items": null,
            "align_self": null,
            "border": null,
            "bottom": null,
            "display": null,
            "flex": null,
            "flex_flow": null,
            "grid_area": null,
            "grid_auto_columns": null,
            "grid_auto_flow": null,
            "grid_auto_rows": null,
            "grid_column": null,
            "grid_gap": null,
            "grid_row": null,
            "grid_template_areas": null,
            "grid_template_columns": null,
            "grid_template_rows": null,
            "height": null,
            "justify_content": null,
            "justify_items": null,
            "left": null,
            "margin": null,
            "max_height": null,
            "max_width": null,
            "min_height": null,
            "min_width": null,
            "object_fit": null,
            "object_position": null,
            "order": null,
            "overflow": null,
            "overflow_x": null,
            "overflow_y": null,
            "padding": null,
            "right": null,
            "top": null,
            "visibility": null,
            "width": null
          }
        },
        "189033d5c8504a8ca65156bd34b5e26a": {
          "model_module": "@jupyter-widgets/controls",
          "model_name": "DescriptionStyleModel",
          "model_module_version": "1.5.0",
          "state": {
            "_model_module": "@jupyter-widgets/controls",
            "_model_module_version": "1.5.0",
            "_model_name": "DescriptionStyleModel",
            "_view_count": null,
            "_view_module": "@jupyter-widgets/base",
            "_view_module_version": "1.2.0",
            "_view_name": "StyleView",
            "description_width": ""
          }
        },
        "94fbf9623c734cdcb4ca3a29ddfe045e": {
          "model_module": "@jupyter-widgets/base",
          "model_name": "LayoutModel",
          "model_module_version": "1.2.0",
          "state": {
            "_model_module": "@jupyter-widgets/base",
            "_model_module_version": "1.2.0",
            "_model_name": "LayoutModel",
            "_view_count": null,
            "_view_module": "@jupyter-widgets/base",
            "_view_module_version": "1.2.0",
            "_view_name": "LayoutView",
            "align_content": null,
            "align_items": null,
            "align_self": null,
            "border": null,
            "bottom": null,
            "display": null,
            "flex": null,
            "flex_flow": null,
            "grid_area": null,
            "grid_auto_columns": null,
            "grid_auto_flow": null,
            "grid_auto_rows": null,
            "grid_column": null,
            "grid_gap": null,
            "grid_row": null,
            "grid_template_areas": null,
            "grid_template_columns": null,
            "grid_template_rows": null,
            "height": null,
            "justify_content": null,
            "justify_items": null,
            "left": null,
            "margin": null,
            "max_height": null,
            "max_width": null,
            "min_height": null,
            "min_width": null,
            "object_fit": null,
            "object_position": null,
            "order": null,
            "overflow": null,
            "overflow_x": null,
            "overflow_y": null,
            "padding": null,
            "right": null,
            "top": null,
            "visibility": null,
            "width": null
          }
        },
        "d802d77b63704c38be36bbf3e98a6a2e": {
          "model_module": "@jupyter-widgets/controls",
          "model_name": "ProgressStyleModel",
          "model_module_version": "1.5.0",
          "state": {
            "_model_module": "@jupyter-widgets/controls",
            "_model_module_version": "1.5.0",
            "_model_name": "ProgressStyleModel",
            "_view_count": null,
            "_view_module": "@jupyter-widgets/base",
            "_view_module_version": "1.2.0",
            "_view_name": "StyleView",
            "bar_color": null,
            "description_width": ""
          }
        },
        "3030dd8231634306b210f89f50b3f58b": {
          "model_module": "@jupyter-widgets/base",
          "model_name": "LayoutModel",
          "model_module_version": "1.2.0",
          "state": {
            "_model_module": "@jupyter-widgets/base",
            "_model_module_version": "1.2.0",
            "_model_name": "LayoutModel",
            "_view_count": null,
            "_view_module": "@jupyter-widgets/base",
            "_view_module_version": "1.2.0",
            "_view_name": "LayoutView",
            "align_content": null,
            "align_items": null,
            "align_self": null,
            "border": null,
            "bottom": null,
            "display": null,
            "flex": null,
            "flex_flow": null,
            "grid_area": null,
            "grid_auto_columns": null,
            "grid_auto_flow": null,
            "grid_auto_rows": null,
            "grid_column": null,
            "grid_gap": null,
            "grid_row": null,
            "grid_template_areas": null,
            "grid_template_columns": null,
            "grid_template_rows": null,
            "height": null,
            "justify_content": null,
            "justify_items": null,
            "left": null,
            "margin": null,
            "max_height": null,
            "max_width": null,
            "min_height": null,
            "min_width": null,
            "object_fit": null,
            "object_position": null,
            "order": null,
            "overflow": null,
            "overflow_x": null,
            "overflow_y": null,
            "padding": null,
            "right": null,
            "top": null,
            "visibility": null,
            "width": null
          }
        },
        "455c86ae05034950a3e1e52535681de5": {
          "model_module": "@jupyter-widgets/controls",
          "model_name": "DescriptionStyleModel",
          "model_module_version": "1.5.0",
          "state": {
            "_model_module": "@jupyter-widgets/controls",
            "_model_module_version": "1.5.0",
            "_model_name": "DescriptionStyleModel",
            "_view_count": null,
            "_view_module": "@jupyter-widgets/base",
            "_view_module_version": "1.2.0",
            "_view_name": "StyleView",
            "description_width": ""
          }
        },
        "a20f9e1f90634292887b908e0874bd72": {
          "model_module": "@jupyter-widgets/controls",
          "model_name": "HBoxModel",
          "model_module_version": "1.5.0",
          "state": {
            "_dom_classes": [],
            "_model_module": "@jupyter-widgets/controls",
            "_model_module_version": "1.5.0",
            "_model_name": "HBoxModel",
            "_view_count": null,
            "_view_module": "@jupyter-widgets/controls",
            "_view_module_version": "1.5.0",
            "_view_name": "HBoxView",
            "box_style": "",
            "children": [
              "IPY_MODEL_14b5dad078854d7ebae337a118120437",
              "IPY_MODEL_cdfae4aa5b20457597c5023003aac2cb",
              "IPY_MODEL_0fae8a7a6b6741cd98a90e0c371580d7"
            ],
            "layout": "IPY_MODEL_79ee453d5e0048cfacf91ef4c574de02"
          }
        },
        "14b5dad078854d7ebae337a118120437": {
          "model_module": "@jupyter-widgets/controls",
          "model_name": "HTMLModel",
          "model_module_version": "1.5.0",
          "state": {
            "_dom_classes": [],
            "_model_module": "@jupyter-widgets/controls",
            "_model_module_version": "1.5.0",
            "_model_name": "HTMLModel",
            "_view_count": null,
            "_view_module": "@jupyter-widgets/controls",
            "_view_module_version": "1.5.0",
            "_view_name": "HTMLView",
            "description": "",
            "description_tooltip": null,
            "layout": "IPY_MODEL_ea686d7a813d4b17bd631c505f822948",
            "placeholder": "​",
            "style": "IPY_MODEL_6a0cb4e282a44049bdc07ecd618d458b",
            "value": "Processing citations synergy: 100%"
          }
        },
        "cdfae4aa5b20457597c5023003aac2cb": {
          "model_module": "@jupyter-widgets/controls",
          "model_name": "FloatProgressModel",
          "model_module_version": "1.5.0",
          "state": {
            "_dom_classes": [],
            "_model_module": "@jupyter-widgets/controls",
            "_model_module_version": "1.5.0",
            "_model_name": "FloatProgressModel",
            "_view_count": null,
            "_view_module": "@jupyter-widgets/controls",
            "_view_module_version": "1.5.0",
            "_view_name": "ProgressView",
            "bar_style": "success",
            "description": "",
            "description_tooltip": null,
            "layout": "IPY_MODEL_6ee1a945a6ec43cfa5626a80c79c23b9",
            "max": 10,
            "min": 0,
            "orientation": "horizontal",
            "style": "IPY_MODEL_3cf23fe0d6474c859b53f7e16f0cec63",
            "value": 10
          }
        },
        "0fae8a7a6b6741cd98a90e0c371580d7": {
          "model_module": "@jupyter-widgets/controls",
          "model_name": "HTMLModel",
          "model_module_version": "1.5.0",
          "state": {
            "_dom_classes": [],
            "_model_module": "@jupyter-widgets/controls",
            "_model_module_version": "1.5.0",
            "_model_name": "HTMLModel",
            "_view_count": null,
            "_view_module": "@jupyter-widgets/controls",
            "_view_module_version": "1.5.0",
            "_view_name": "HTMLView",
            "description": "",
            "description_tooltip": null,
            "layout": "IPY_MODEL_bf236a05f6764013bb97d9c13283a8cf",
            "placeholder": "​",
            "style": "IPY_MODEL_09b541637b844fa484fb5a40a6a965af",
            "value": " 10/10 [05:10&lt;00:00, 30.99s/it]"
          }
        },
        "79ee453d5e0048cfacf91ef4c574de02": {
          "model_module": "@jupyter-widgets/base",
          "model_name": "LayoutModel",
          "model_module_version": "1.2.0",
          "state": {
            "_model_module": "@jupyter-widgets/base",
            "_model_module_version": "1.2.0",
            "_model_name": "LayoutModel",
            "_view_count": null,
            "_view_module": "@jupyter-widgets/base",
            "_view_module_version": "1.2.0",
            "_view_name": "LayoutView",
            "align_content": null,
            "align_items": null,
            "align_self": null,
            "border": null,
            "bottom": null,
            "display": null,
            "flex": null,
            "flex_flow": null,
            "grid_area": null,
            "grid_auto_columns": null,
            "grid_auto_flow": null,
            "grid_auto_rows": null,
            "grid_column": null,
            "grid_gap": null,
            "grid_row": null,
            "grid_template_areas": null,
            "grid_template_columns": null,
            "grid_template_rows": null,
            "height": null,
            "justify_content": null,
            "justify_items": null,
            "left": null,
            "margin": null,
            "max_height": null,
            "max_width": null,
            "min_height": null,
            "min_width": null,
            "object_fit": null,
            "object_position": null,
            "order": null,
            "overflow": null,
            "overflow_x": null,
            "overflow_y": null,
            "padding": null,
            "right": null,
            "top": null,
            "visibility": null,
            "width": null
          }
        },
        "ea686d7a813d4b17bd631c505f822948": {
          "model_module": "@jupyter-widgets/base",
          "model_name": "LayoutModel",
          "model_module_version": "1.2.0",
          "state": {
            "_model_module": "@jupyter-widgets/base",
            "_model_module_version": "1.2.0",
            "_model_name": "LayoutModel",
            "_view_count": null,
            "_view_module": "@jupyter-widgets/base",
            "_view_module_version": "1.2.0",
            "_view_name": "LayoutView",
            "align_content": null,
            "align_items": null,
            "align_self": null,
            "border": null,
            "bottom": null,
            "display": null,
            "flex": null,
            "flex_flow": null,
            "grid_area": null,
            "grid_auto_columns": null,
            "grid_auto_flow": null,
            "grid_auto_rows": null,
            "grid_column": null,
            "grid_gap": null,
            "grid_row": null,
            "grid_template_areas": null,
            "grid_template_columns": null,
            "grid_template_rows": null,
            "height": null,
            "justify_content": null,
            "justify_items": null,
            "left": null,
            "margin": null,
            "max_height": null,
            "max_width": null,
            "min_height": null,
            "min_width": null,
            "object_fit": null,
            "object_position": null,
            "order": null,
            "overflow": null,
            "overflow_x": null,
            "overflow_y": null,
            "padding": null,
            "right": null,
            "top": null,
            "visibility": null,
            "width": null
          }
        },
        "6a0cb4e282a44049bdc07ecd618d458b": {
          "model_module": "@jupyter-widgets/controls",
          "model_name": "DescriptionStyleModel",
          "model_module_version": "1.5.0",
          "state": {
            "_model_module": "@jupyter-widgets/controls",
            "_model_module_version": "1.5.0",
            "_model_name": "DescriptionStyleModel",
            "_view_count": null,
            "_view_module": "@jupyter-widgets/base",
            "_view_module_version": "1.2.0",
            "_view_name": "StyleView",
            "description_width": ""
          }
        },
        "6ee1a945a6ec43cfa5626a80c79c23b9": {
          "model_module": "@jupyter-widgets/base",
          "model_name": "LayoutModel",
          "model_module_version": "1.2.0",
          "state": {
            "_model_module": "@jupyter-widgets/base",
            "_model_module_version": "1.2.0",
            "_model_name": "LayoutModel",
            "_view_count": null,
            "_view_module": "@jupyter-widgets/base",
            "_view_module_version": "1.2.0",
            "_view_name": "LayoutView",
            "align_content": null,
            "align_items": null,
            "align_self": null,
            "border": null,
            "bottom": null,
            "display": null,
            "flex": null,
            "flex_flow": null,
            "grid_area": null,
            "grid_auto_columns": null,
            "grid_auto_flow": null,
            "grid_auto_rows": null,
            "grid_column": null,
            "grid_gap": null,
            "grid_row": null,
            "grid_template_areas": null,
            "grid_template_columns": null,
            "grid_template_rows": null,
            "height": null,
            "justify_content": null,
            "justify_items": null,
            "left": null,
            "margin": null,
            "max_height": null,
            "max_width": null,
            "min_height": null,
            "min_width": null,
            "object_fit": null,
            "object_position": null,
            "order": null,
            "overflow": null,
            "overflow_x": null,
            "overflow_y": null,
            "padding": null,
            "right": null,
            "top": null,
            "visibility": null,
            "width": null
          }
        },
        "3cf23fe0d6474c859b53f7e16f0cec63": {
          "model_module": "@jupyter-widgets/controls",
          "model_name": "ProgressStyleModel",
          "model_module_version": "1.5.0",
          "state": {
            "_model_module": "@jupyter-widgets/controls",
            "_model_module_version": "1.5.0",
            "_model_name": "ProgressStyleModel",
            "_view_count": null,
            "_view_module": "@jupyter-widgets/base",
            "_view_module_version": "1.2.0",
            "_view_name": "StyleView",
            "bar_color": null,
            "description_width": ""
          }
        },
        "bf236a05f6764013bb97d9c13283a8cf": {
          "model_module": "@jupyter-widgets/base",
          "model_name": "LayoutModel",
          "model_module_version": "1.2.0",
          "state": {
            "_model_module": "@jupyter-widgets/base",
            "_model_module_version": "1.2.0",
            "_model_name": "LayoutModel",
            "_view_count": null,
            "_view_module": "@jupyter-widgets/base",
            "_view_module_version": "1.2.0",
            "_view_name": "LayoutView",
            "align_content": null,
            "align_items": null,
            "align_self": null,
            "border": null,
            "bottom": null,
            "display": null,
            "flex": null,
            "flex_flow": null,
            "grid_area": null,
            "grid_auto_columns": null,
            "grid_auto_flow": null,
            "grid_auto_rows": null,
            "grid_column": null,
            "grid_gap": null,
            "grid_row": null,
            "grid_template_areas": null,
            "grid_template_columns": null,
            "grid_template_rows": null,
            "height": null,
            "justify_content": null,
            "justify_items": null,
            "left": null,
            "margin": null,
            "max_height": null,
            "max_width": null,
            "min_height": null,
            "min_width": null,
            "object_fit": null,
            "object_position": null,
            "order": null,
            "overflow": null,
            "overflow_x": null,
            "overflow_y": null,
            "padding": null,
            "right": null,
            "top": null,
            "visibility": null,
            "width": null
          }
        },
        "09b541637b844fa484fb5a40a6a965af": {
          "model_module": "@jupyter-widgets/controls",
          "model_name": "DescriptionStyleModel",
          "model_module_version": "1.5.0",
          "state": {
            "_model_module": "@jupyter-widgets/controls",
            "_model_module_version": "1.5.0",
            "_model_name": "DescriptionStyleModel",
            "_view_count": null,
            "_view_module": "@jupyter-widgets/base",
            "_view_module_version": "1.2.0",
            "_view_name": "StyleView",
            "description_width": ""
          }
        }
      }
    }
  },
  "nbformat": 4,
  "nbformat_minor": 0
}